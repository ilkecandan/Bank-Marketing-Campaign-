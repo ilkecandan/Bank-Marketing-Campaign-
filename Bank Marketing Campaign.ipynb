{
 "cells": [
  {
   "cell_type": "code",
   "execution_count": 221,
   "id": "047ac4fa",
   "metadata": {},
   "outputs": [],
   "source": [
    "import pandas as pd\n",
    "import numpy as np\n",
    "# We should see the distribution of the numeric data\n",
    "import matplotlib.pyplot as plt\n",
    "import seaborn as sns\n",
    "from sklearn import preprocessing"
   ]
  },
  {
   "cell_type": "code",
   "execution_count": 222,
   "id": "c5b6e5ba",
   "metadata": {},
   "outputs": [],
   "source": [
    "#Pre Processing\n",
    "data_path=\"bank-additional-full.csv\"\n",
    "df=pd.read_csv(data_path,sep=\";\")"
   ]
  },
  {
   "cell_type": "code",
   "execution_count": 223,
   "id": "d2ec64ef",
   "metadata": {},
   "outputs": [
    {
     "name": "stdout",
     "output_type": "stream",
     "text": [
      "<class 'pandas.core.frame.DataFrame'>\n",
      "RangeIndex: 41188 entries, 0 to 41187\n",
      "Data columns (total 21 columns):\n",
      " #   Column          Non-Null Count  Dtype  \n",
      "---  ------          --------------  -----  \n",
      " 0   age             41188 non-null  int64  \n",
      " 1   job             41188 non-null  object \n",
      " 2   marital         41188 non-null  object \n",
      " 3   education       41188 non-null  object \n",
      " 4   default         41188 non-null  object \n",
      " 5   housing         41188 non-null  object \n",
      " 6   loan            41188 non-null  object \n",
      " 7   contact         41188 non-null  object \n",
      " 8   month           41188 non-null  object \n",
      " 9   day_of_week     41188 non-null  object \n",
      " 10  duration        41188 non-null  int64  \n",
      " 11  campaign        41188 non-null  int64  \n",
      " 12  pdays           41188 non-null  int64  \n",
      " 13  previous        41188 non-null  int64  \n",
      " 14  poutcome        41188 non-null  object \n",
      " 15  emp.var.rate    41188 non-null  float64\n",
      " 16  cons.price.idx  41188 non-null  float64\n",
      " 17  cons.conf.idx   41188 non-null  float64\n",
      " 18  euribor3m       41188 non-null  float64\n",
      " 19  nr.employed     41188 non-null  float64\n",
      " 20  y               41188 non-null  object \n",
      "dtypes: float64(5), int64(5), object(11)\n",
      "memory usage: 6.6+ MB\n"
     ]
    }
   ],
   "source": [
    "df.info()"
   ]
  },
  {
   "cell_type": "code",
   "execution_count": 224,
   "id": "f8f5d038",
   "metadata": {},
   "outputs": [
    {
     "data": {
      "text/plain": [
       "<bound method NDFrame.describe of        age          job  marital            education  default housing loan  \\\n",
       "0       56    housemaid  married             basic.4y       no      no   no   \n",
       "1       57     services  married          high.school  unknown      no   no   \n",
       "2       37     services  married          high.school       no     yes   no   \n",
       "3       40       admin.  married             basic.6y       no      no   no   \n",
       "4       56     services  married          high.school       no      no  yes   \n",
       "...    ...          ...      ...                  ...      ...     ...  ...   \n",
       "41183   73      retired  married  professional.course       no     yes   no   \n",
       "41184   46  blue-collar  married  professional.course       no      no   no   \n",
       "41185   56      retired  married    university.degree       no     yes   no   \n",
       "41186   44   technician  married  professional.course       no      no   no   \n",
       "41187   74      retired  married  professional.course       no     yes   no   \n",
       "\n",
       "         contact month day_of_week  ...  campaign  pdays  previous  \\\n",
       "0      telephone   may         mon  ...         1    999         0   \n",
       "1      telephone   may         mon  ...         1    999         0   \n",
       "2      telephone   may         mon  ...         1    999         0   \n",
       "3      telephone   may         mon  ...         1    999         0   \n",
       "4      telephone   may         mon  ...         1    999         0   \n",
       "...          ...   ...         ...  ...       ...    ...       ...   \n",
       "41183   cellular   nov         fri  ...         1    999         0   \n",
       "41184   cellular   nov         fri  ...         1    999         0   \n",
       "41185   cellular   nov         fri  ...         2    999         0   \n",
       "41186   cellular   nov         fri  ...         1    999         0   \n",
       "41187   cellular   nov         fri  ...         3    999         1   \n",
       "\n",
       "          poutcome emp.var.rate  cons.price.idx  cons.conf.idx  euribor3m  \\\n",
       "0      nonexistent          1.1          93.994          -36.4      4.857   \n",
       "1      nonexistent          1.1          93.994          -36.4      4.857   \n",
       "2      nonexistent          1.1          93.994          -36.4      4.857   \n",
       "3      nonexistent          1.1          93.994          -36.4      4.857   \n",
       "4      nonexistent          1.1          93.994          -36.4      4.857   \n",
       "...            ...          ...             ...            ...        ...   \n",
       "41183  nonexistent         -1.1          94.767          -50.8      1.028   \n",
       "41184  nonexistent         -1.1          94.767          -50.8      1.028   \n",
       "41185  nonexistent         -1.1          94.767          -50.8      1.028   \n",
       "41186  nonexistent         -1.1          94.767          -50.8      1.028   \n",
       "41187      failure         -1.1          94.767          -50.8      1.028   \n",
       "\n",
       "       nr.employed    y  \n",
       "0           5191.0   no  \n",
       "1           5191.0   no  \n",
       "2           5191.0   no  \n",
       "3           5191.0   no  \n",
       "4           5191.0   no  \n",
       "...            ...  ...  \n",
       "41183       4963.6  yes  \n",
       "41184       4963.6   no  \n",
       "41185       4963.6   no  \n",
       "41186       4963.6  yes  \n",
       "41187       4963.6   no  \n",
       "\n",
       "[41188 rows x 21 columns]>"
      ]
     },
     "execution_count": 224,
     "metadata": {},
     "output_type": "execute_result"
    }
   ],
   "source": [
    "df.describe"
   ]
  },
  {
   "cell_type": "code",
   "execution_count": 225,
   "id": "a9479e13",
   "metadata": {},
   "outputs": [],
   "source": [
    "#Dealing with Missing Values¶"
   ]
  },
  {
   "cell_type": "code",
   "execution_count": 226,
   "id": "9cff1a46",
   "metadata": {},
   "outputs": [],
   "source": [
    "for column in df.columns:\n",
    "    df[column].replace('unknown', np.nan, inplace=True)\n",
    "    df.dropna(inplace=True)"
   ]
  },
  {
   "cell_type": "code",
   "execution_count": 227,
   "id": "5beb0635",
   "metadata": {},
   "outputs": [
    {
     "data": {
      "text/html": [
       "<div>\n",
       "<style scoped>\n",
       "    .dataframe tbody tr th:only-of-type {\n",
       "        vertical-align: middle;\n",
       "    }\n",
       "\n",
       "    .dataframe tbody tr th {\n",
       "        vertical-align: top;\n",
       "    }\n",
       "\n",
       "    .dataframe thead th {\n",
       "        text-align: right;\n",
       "    }\n",
       "</style>\n",
       "<table border=\"1\" class=\"dataframe\">\n",
       "  <thead>\n",
       "    <tr style=\"text-align: right;\">\n",
       "      <th></th>\n",
       "      <th>age</th>\n",
       "      <th>job</th>\n",
       "      <th>marital</th>\n",
       "      <th>education</th>\n",
       "      <th>default</th>\n",
       "      <th>housing</th>\n",
       "      <th>loan</th>\n",
       "      <th>contact</th>\n",
       "      <th>month</th>\n",
       "      <th>day_of_week</th>\n",
       "      <th>...</th>\n",
       "      <th>campaign</th>\n",
       "      <th>pdays</th>\n",
       "      <th>previous</th>\n",
       "      <th>poutcome</th>\n",
       "      <th>emp.var.rate</th>\n",
       "      <th>cons.price.idx</th>\n",
       "      <th>cons.conf.idx</th>\n",
       "      <th>euribor3m</th>\n",
       "      <th>nr.employed</th>\n",
       "      <th>y</th>\n",
       "    </tr>\n",
       "  </thead>\n",
       "  <tbody>\n",
       "    <tr>\n",
       "      <th>0</th>\n",
       "      <td>56</td>\n",
       "      <td>housemaid</td>\n",
       "      <td>married</td>\n",
       "      <td>basic.4y</td>\n",
       "      <td>no</td>\n",
       "      <td>no</td>\n",
       "      <td>no</td>\n",
       "      <td>telephone</td>\n",
       "      <td>may</td>\n",
       "      <td>mon</td>\n",
       "      <td>...</td>\n",
       "      <td>1</td>\n",
       "      <td>999</td>\n",
       "      <td>0</td>\n",
       "      <td>nonexistent</td>\n",
       "      <td>1.1</td>\n",
       "      <td>93.994</td>\n",
       "      <td>-36.4</td>\n",
       "      <td>4.857</td>\n",
       "      <td>5191.0</td>\n",
       "      <td>no</td>\n",
       "    </tr>\n",
       "    <tr>\n",
       "      <th>1</th>\n",
       "      <td>37</td>\n",
       "      <td>services</td>\n",
       "      <td>married</td>\n",
       "      <td>high.school</td>\n",
       "      <td>no</td>\n",
       "      <td>yes</td>\n",
       "      <td>no</td>\n",
       "      <td>telephone</td>\n",
       "      <td>may</td>\n",
       "      <td>mon</td>\n",
       "      <td>...</td>\n",
       "      <td>1</td>\n",
       "      <td>999</td>\n",
       "      <td>0</td>\n",
       "      <td>nonexistent</td>\n",
       "      <td>1.1</td>\n",
       "      <td>93.994</td>\n",
       "      <td>-36.4</td>\n",
       "      <td>4.857</td>\n",
       "      <td>5191.0</td>\n",
       "      <td>no</td>\n",
       "    </tr>\n",
       "    <tr>\n",
       "      <th>2</th>\n",
       "      <td>40</td>\n",
       "      <td>admin.</td>\n",
       "      <td>married</td>\n",
       "      <td>basic.6y</td>\n",
       "      <td>no</td>\n",
       "      <td>no</td>\n",
       "      <td>no</td>\n",
       "      <td>telephone</td>\n",
       "      <td>may</td>\n",
       "      <td>mon</td>\n",
       "      <td>...</td>\n",
       "      <td>1</td>\n",
       "      <td>999</td>\n",
       "      <td>0</td>\n",
       "      <td>nonexistent</td>\n",
       "      <td>1.1</td>\n",
       "      <td>93.994</td>\n",
       "      <td>-36.4</td>\n",
       "      <td>4.857</td>\n",
       "      <td>5191.0</td>\n",
       "      <td>no</td>\n",
       "    </tr>\n",
       "    <tr>\n",
       "      <th>3</th>\n",
       "      <td>56</td>\n",
       "      <td>services</td>\n",
       "      <td>married</td>\n",
       "      <td>high.school</td>\n",
       "      <td>no</td>\n",
       "      <td>no</td>\n",
       "      <td>yes</td>\n",
       "      <td>telephone</td>\n",
       "      <td>may</td>\n",
       "      <td>mon</td>\n",
       "      <td>...</td>\n",
       "      <td>1</td>\n",
       "      <td>999</td>\n",
       "      <td>0</td>\n",
       "      <td>nonexistent</td>\n",
       "      <td>1.1</td>\n",
       "      <td>93.994</td>\n",
       "      <td>-36.4</td>\n",
       "      <td>4.857</td>\n",
       "      <td>5191.0</td>\n",
       "      <td>no</td>\n",
       "    </tr>\n",
       "    <tr>\n",
       "      <th>4</th>\n",
       "      <td>59</td>\n",
       "      <td>admin.</td>\n",
       "      <td>married</td>\n",
       "      <td>professional.course</td>\n",
       "      <td>no</td>\n",
       "      <td>no</td>\n",
       "      <td>no</td>\n",
       "      <td>telephone</td>\n",
       "      <td>may</td>\n",
       "      <td>mon</td>\n",
       "      <td>...</td>\n",
       "      <td>1</td>\n",
       "      <td>999</td>\n",
       "      <td>0</td>\n",
       "      <td>nonexistent</td>\n",
       "      <td>1.1</td>\n",
       "      <td>93.994</td>\n",
       "      <td>-36.4</td>\n",
       "      <td>4.857</td>\n",
       "      <td>5191.0</td>\n",
       "      <td>no</td>\n",
       "    </tr>\n",
       "    <tr>\n",
       "      <th>...</th>\n",
       "      <td>...</td>\n",
       "      <td>...</td>\n",
       "      <td>...</td>\n",
       "      <td>...</td>\n",
       "      <td>...</td>\n",
       "      <td>...</td>\n",
       "      <td>...</td>\n",
       "      <td>...</td>\n",
       "      <td>...</td>\n",
       "      <td>...</td>\n",
       "      <td>...</td>\n",
       "      <td>...</td>\n",
       "      <td>...</td>\n",
       "      <td>...</td>\n",
       "      <td>...</td>\n",
       "      <td>...</td>\n",
       "      <td>...</td>\n",
       "      <td>...</td>\n",
       "      <td>...</td>\n",
       "      <td>...</td>\n",
       "      <td>...</td>\n",
       "    </tr>\n",
       "    <tr>\n",
       "      <th>30483</th>\n",
       "      <td>73</td>\n",
       "      <td>retired</td>\n",
       "      <td>married</td>\n",
       "      <td>professional.course</td>\n",
       "      <td>no</td>\n",
       "      <td>yes</td>\n",
       "      <td>no</td>\n",
       "      <td>cellular</td>\n",
       "      <td>nov</td>\n",
       "      <td>fri</td>\n",
       "      <td>...</td>\n",
       "      <td>1</td>\n",
       "      <td>999</td>\n",
       "      <td>0</td>\n",
       "      <td>nonexistent</td>\n",
       "      <td>-1.1</td>\n",
       "      <td>94.767</td>\n",
       "      <td>-50.8</td>\n",
       "      <td>1.028</td>\n",
       "      <td>4963.6</td>\n",
       "      <td>yes</td>\n",
       "    </tr>\n",
       "    <tr>\n",
       "      <th>30484</th>\n",
       "      <td>46</td>\n",
       "      <td>blue-collar</td>\n",
       "      <td>married</td>\n",
       "      <td>professional.course</td>\n",
       "      <td>no</td>\n",
       "      <td>no</td>\n",
       "      <td>no</td>\n",
       "      <td>cellular</td>\n",
       "      <td>nov</td>\n",
       "      <td>fri</td>\n",
       "      <td>...</td>\n",
       "      <td>1</td>\n",
       "      <td>999</td>\n",
       "      <td>0</td>\n",
       "      <td>nonexistent</td>\n",
       "      <td>-1.1</td>\n",
       "      <td>94.767</td>\n",
       "      <td>-50.8</td>\n",
       "      <td>1.028</td>\n",
       "      <td>4963.6</td>\n",
       "      <td>no</td>\n",
       "    </tr>\n",
       "    <tr>\n",
       "      <th>30485</th>\n",
       "      <td>56</td>\n",
       "      <td>retired</td>\n",
       "      <td>married</td>\n",
       "      <td>university.degree</td>\n",
       "      <td>no</td>\n",
       "      <td>yes</td>\n",
       "      <td>no</td>\n",
       "      <td>cellular</td>\n",
       "      <td>nov</td>\n",
       "      <td>fri</td>\n",
       "      <td>...</td>\n",
       "      <td>2</td>\n",
       "      <td>999</td>\n",
       "      <td>0</td>\n",
       "      <td>nonexistent</td>\n",
       "      <td>-1.1</td>\n",
       "      <td>94.767</td>\n",
       "      <td>-50.8</td>\n",
       "      <td>1.028</td>\n",
       "      <td>4963.6</td>\n",
       "      <td>no</td>\n",
       "    </tr>\n",
       "    <tr>\n",
       "      <th>30486</th>\n",
       "      <td>44</td>\n",
       "      <td>technician</td>\n",
       "      <td>married</td>\n",
       "      <td>professional.course</td>\n",
       "      <td>no</td>\n",
       "      <td>no</td>\n",
       "      <td>no</td>\n",
       "      <td>cellular</td>\n",
       "      <td>nov</td>\n",
       "      <td>fri</td>\n",
       "      <td>...</td>\n",
       "      <td>1</td>\n",
       "      <td>999</td>\n",
       "      <td>0</td>\n",
       "      <td>nonexistent</td>\n",
       "      <td>-1.1</td>\n",
       "      <td>94.767</td>\n",
       "      <td>-50.8</td>\n",
       "      <td>1.028</td>\n",
       "      <td>4963.6</td>\n",
       "      <td>yes</td>\n",
       "    </tr>\n",
       "    <tr>\n",
       "      <th>30487</th>\n",
       "      <td>74</td>\n",
       "      <td>retired</td>\n",
       "      <td>married</td>\n",
       "      <td>professional.course</td>\n",
       "      <td>no</td>\n",
       "      <td>yes</td>\n",
       "      <td>no</td>\n",
       "      <td>cellular</td>\n",
       "      <td>nov</td>\n",
       "      <td>fri</td>\n",
       "      <td>...</td>\n",
       "      <td>3</td>\n",
       "      <td>999</td>\n",
       "      <td>1</td>\n",
       "      <td>failure</td>\n",
       "      <td>-1.1</td>\n",
       "      <td>94.767</td>\n",
       "      <td>-50.8</td>\n",
       "      <td>1.028</td>\n",
       "      <td>4963.6</td>\n",
       "      <td>no</td>\n",
       "    </tr>\n",
       "  </tbody>\n",
       "</table>\n",
       "<p>30488 rows × 21 columns</p>\n",
       "</div>"
      ],
      "text/plain": [
       "       age          job  marital            education default housing loan  \\\n",
       "0       56    housemaid  married             basic.4y      no      no   no   \n",
       "1       37     services  married          high.school      no     yes   no   \n",
       "2       40       admin.  married             basic.6y      no      no   no   \n",
       "3       56     services  married          high.school      no      no  yes   \n",
       "4       59       admin.  married  professional.course      no      no   no   \n",
       "...    ...          ...      ...                  ...     ...     ...  ...   \n",
       "30483   73      retired  married  professional.course      no     yes   no   \n",
       "30484   46  blue-collar  married  professional.course      no      no   no   \n",
       "30485   56      retired  married    university.degree      no     yes   no   \n",
       "30486   44   technician  married  professional.course      no      no   no   \n",
       "30487   74      retired  married  professional.course      no     yes   no   \n",
       "\n",
       "         contact month day_of_week  ...  campaign  pdays  previous  \\\n",
       "0      telephone   may         mon  ...         1    999         0   \n",
       "1      telephone   may         mon  ...         1    999         0   \n",
       "2      telephone   may         mon  ...         1    999         0   \n",
       "3      telephone   may         mon  ...         1    999         0   \n",
       "4      telephone   may         mon  ...         1    999         0   \n",
       "...          ...   ...         ...  ...       ...    ...       ...   \n",
       "30483   cellular   nov         fri  ...         1    999         0   \n",
       "30484   cellular   nov         fri  ...         1    999         0   \n",
       "30485   cellular   nov         fri  ...         2    999         0   \n",
       "30486   cellular   nov         fri  ...         1    999         0   \n",
       "30487   cellular   nov         fri  ...         3    999         1   \n",
       "\n",
       "          poutcome emp.var.rate  cons.price.idx  cons.conf.idx  euribor3m  \\\n",
       "0      nonexistent          1.1          93.994          -36.4      4.857   \n",
       "1      nonexistent          1.1          93.994          -36.4      4.857   \n",
       "2      nonexistent          1.1          93.994          -36.4      4.857   \n",
       "3      nonexistent          1.1          93.994          -36.4      4.857   \n",
       "4      nonexistent          1.1          93.994          -36.4      4.857   \n",
       "...            ...          ...             ...            ...        ...   \n",
       "30483  nonexistent         -1.1          94.767          -50.8      1.028   \n",
       "30484  nonexistent         -1.1          94.767          -50.8      1.028   \n",
       "30485  nonexistent         -1.1          94.767          -50.8      1.028   \n",
       "30486  nonexistent         -1.1          94.767          -50.8      1.028   \n",
       "30487      failure         -1.1          94.767          -50.8      1.028   \n",
       "\n",
       "       nr.employed    y  \n",
       "0           5191.0   no  \n",
       "1           5191.0   no  \n",
       "2           5191.0   no  \n",
       "3           5191.0   no  \n",
       "4           5191.0   no  \n",
       "...            ...  ...  \n",
       "30483       4963.6  yes  \n",
       "30484       4963.6   no  \n",
       "30485       4963.6   no  \n",
       "30486       4963.6  yes  \n",
       "30487       4963.6   no  \n",
       "\n",
       "[30488 rows x 21 columns]"
      ]
     },
     "execution_count": 227,
     "metadata": {},
     "output_type": "execute_result"
    }
   ],
   "source": [
    "df.reset_index(inplace=True,drop=True)\n",
    "df"
   ]
  },
  {
   "cell_type": "code",
   "execution_count": 228,
   "id": "699dffc4",
   "metadata": {},
   "outputs": [
    {
     "data": {
      "text/plain": [
       "no     30485\n",
       "yes        3\n",
       "Name: default, dtype: int64"
      ]
     },
     "execution_count": 228,
     "metadata": {},
     "output_type": "execute_result"
    }
   ],
   "source": [
    "df.default.value_counts()"
   ]
  },
  {
   "cell_type": "code",
   "execution_count": 229,
   "id": "4a12fce7",
   "metadata": {},
   "outputs": [],
   "source": [
    "df.drop(\"default\",inplace=True,axis=1)"
   ]
  },
  {
   "cell_type": "code",
   "execution_count": 230,
   "id": "ed3630d5",
   "metadata": {},
   "outputs": [
    {
     "data": {
      "text/plain": [
       "array(['age', 'job', 'marital', 'education', 'housing', 'loan', 'contact',\n",
       "       'month', 'day_of_week', 'duration', 'campaign', 'pdays',\n",
       "       'previous', 'poutcome', 'emp.var.rate', 'cons.price.idx',\n",
       "       'cons.conf.idx', 'euribor3m', 'nr.employed', 'y'], dtype=object)"
      ]
     },
     "execution_count": 230,
     "metadata": {},
     "output_type": "execute_result"
    }
   ],
   "source": [
    "df.columns.values"
   ]
  },
  {
   "cell_type": "code",
   "execution_count": 231,
   "id": "4d827d8f",
   "metadata": {},
   "outputs": [],
   "source": [
    "#Exploratory Data Analysis and Pre-Processing¶"
   ]
  },
  {
   "cell_type": "code",
   "execution_count": 232,
   "id": "8d772d99",
   "metadata": {},
   "outputs": [
    {
     "data": {
      "image/png": "[encoded data removed]",
      "text/plain": [
       "<Figure size 1440x1224 with 12 Axes>"
      ]
     },
     "metadata": {},
     "output_type": "display_data"
    }
   ],
   "source": [
    "fig, ax = plt.subplots(3,4, figsize=(20,17))\n",
    "cat = df.select_dtypes('object').columns.to_list()\n",
    "cat = cat[:-1]\n",
    "ax = ax.ravel()\n",
    "position = 0\n",
    "for i in cat:\n",
    "    \n",
    "    order = df[i].value_counts().index\n",
    "    sns.countplot(data=df, x=i, ax=ax[position], hue='y', palette='GnBu', order=order)\n",
    "    ax[position].tick_params(labelrotation=90)\n",
    "    ax[position].set_title(i, fontdict={'fontsize':17})\n",
    "    \n",
    "    position += 1\n",
    "\n",
    "plt.subplots_adjust(hspace=0.7)\n",
    "\n",
    "plt.show()"
   ]
  },
  {
   "cell_type": "code",
   "execution_count": 233,
   "id": "9907ad20",
   "metadata": {},
   "outputs": [],
   "source": [
    "# We encounter with an imbalanced data."
   ]
  },
  {
   "cell_type": "code",
   "execution_count": 234,
   "id": "b0b0e45c",
   "metadata": {},
   "outputs": [],
   "source": [
    "#For the education feature, there are some similar values like basic.9y, basic.6y and basic.4y. I convert them to \"middle.shool\""
   ]
  },
  {
   "cell_type": "code",
   "execution_count": 235,
   "id": "d1055b1f",
   "metadata": {},
   "outputs": [
    {
     "data": {
      "text/plain": [
       "university.degree      10412\n",
       "middle.school           8045\n",
       "high.school             7699\n",
       "professional.course     4321\n",
       "illiterate                11\n",
       "Name: education, dtype: int64"
      ]
     },
     "execution_count": 235,
     "metadata": {},
     "output_type": "execute_result"
    }
   ],
   "source": [
    "lst=['basic.9y','basic.6y','basic.4y']\n",
    "for i in lst:\n",
    "    df.loc[df['education'] == i, 'education'] = \"middle.school\"\n",
    "\n",
    "df['education'].value_counts()"
   ]
  },
  {
   "cell_type": "code",
   "execution_count": 236,
   "id": "8d0a6e44",
   "metadata": {},
   "outputs": [],
   "source": [
    "#In poutcome feature, there is also a problem with missing value, but since it is too much data, I convert them to 0."
   ]
  },
  {
   "cell_type": "code",
   "execution_count": 237,
   "id": "dde3a6c5",
   "metadata": {},
   "outputs": [
    {
     "data": {
      "text/plain": [
       "nonexistent    25836\n",
       "failure         3461\n",
       "success         1191\n",
       "Name: poutcome, dtype: int64"
      ]
     },
     "execution_count": 237,
     "metadata": {},
     "output_type": "execute_result"
    }
   ],
   "source": [
    "df.poutcome.value_counts()"
   ]
  },
  {
   "cell_type": "code",
   "execution_count": 238,
   "id": "8f72e545",
   "metadata": {},
   "outputs": [],
   "source": [
    "# binary if were was an outcome of marketing campane\n",
    "df.poutcome = df.poutcome.map({'nonexistent':0, 'failure':0, 'success':1}).astype('uint8') "
   ]
  },
  {
   "cell_type": "code",
   "execution_count": 239,
   "id": "90db604c",
   "metadata": {},
   "outputs": [
    {
     "data": {
      "image/png": "[encoded data removed]",
      "text/plain": [
       "<Figure size 1008x720 with 12 Axes>"
      ]
     },
     "metadata": {},
     "output_type": "display_data"
    }
   ],
   "source": [
    "df.hist(bins=20, figsize=(14,10))\n",
    "plt.show()"
   ]
  },
  {
   "cell_type": "code",
   "execution_count": 240,
   "id": "6f05a978",
   "metadata": {},
   "outputs": [
    {
     "data": {
      "text/html": [
       "<div>\n",
       "<style scoped>\n",
       "    .dataframe tbody tr th:only-of-type {\n",
       "        vertical-align: middle;\n",
       "    }\n",
       "\n",
       "    .dataframe tbody tr th {\n",
       "        vertical-align: top;\n",
       "    }\n",
       "\n",
       "    .dataframe thead th {\n",
       "        text-align: right;\n",
       "    }\n",
       "</style>\n",
       "<table border=\"1\" class=\"dataframe\">\n",
       "  <thead>\n",
       "    <tr style=\"text-align: right;\">\n",
       "      <th></th>\n",
       "      <th>age</th>\n",
       "      <th>duration</th>\n",
       "      <th>campaign</th>\n",
       "      <th>pdays</th>\n",
       "      <th>previous</th>\n",
       "      <th>poutcome</th>\n",
       "      <th>emp.var.rate</th>\n",
       "      <th>cons.price.idx</th>\n",
       "      <th>cons.conf.idx</th>\n",
       "      <th>euribor3m</th>\n",
       "      <th>nr.employed</th>\n",
       "    </tr>\n",
       "  </thead>\n",
       "  <tbody>\n",
       "    <tr>\n",
       "      <th>count</th>\n",
       "      <td>30488.000000</td>\n",
       "      <td>30488.000000</td>\n",
       "      <td>30488.000000</td>\n",
       "      <td>30488.000000</td>\n",
       "      <td>30488.000000</td>\n",
       "      <td>30488.000000</td>\n",
       "      <td>30488.000000</td>\n",
       "      <td>30488.000000</td>\n",
       "      <td>30488.000000</td>\n",
       "      <td>30488.000000</td>\n",
       "      <td>30488.000000</td>\n",
       "    </tr>\n",
       "    <tr>\n",
       "      <th>mean</th>\n",
       "      <td>39.030012</td>\n",
       "      <td>259.484092</td>\n",
       "      <td>2.521451</td>\n",
       "      <td>956.332295</td>\n",
       "      <td>0.194273</td>\n",
       "      <td>0.039065</td>\n",
       "      <td>-0.071510</td>\n",
       "      <td>93.523311</td>\n",
       "      <td>-40.602263</td>\n",
       "      <td>3.459938</td>\n",
       "      <td>5160.813409</td>\n",
       "    </tr>\n",
       "    <tr>\n",
       "      <th>std</th>\n",
       "      <td>10.333529</td>\n",
       "      <td>261.714262</td>\n",
       "      <td>2.720150</td>\n",
       "      <td>201.373292</td>\n",
       "      <td>0.522788</td>\n",
       "      <td>0.193752</td>\n",
       "      <td>1.610399</td>\n",
       "      <td>0.585374</td>\n",
       "      <td>4.789249</td>\n",
       "      <td>1.777231</td>\n",
       "      <td>75.158065</td>\n",
       "    </tr>\n",
       "    <tr>\n",
       "      <th>min</th>\n",
       "      <td>17.000000</td>\n",
       "      <td>0.000000</td>\n",
       "      <td>1.000000</td>\n",
       "      <td>0.000000</td>\n",
       "      <td>0.000000</td>\n",
       "      <td>0.000000</td>\n",
       "      <td>-3.400000</td>\n",
       "      <td>92.201000</td>\n",
       "      <td>-50.800000</td>\n",
       "      <td>0.634000</td>\n",
       "      <td>4963.600000</td>\n",
       "    </tr>\n",
       "    <tr>\n",
       "      <th>25%</th>\n",
       "      <td>31.000000</td>\n",
       "      <td>103.000000</td>\n",
       "      <td>1.000000</td>\n",
       "      <td>999.000000</td>\n",
       "      <td>0.000000</td>\n",
       "      <td>0.000000</td>\n",
       "      <td>-1.800000</td>\n",
       "      <td>93.075000</td>\n",
       "      <td>-42.700000</td>\n",
       "      <td>1.313000</td>\n",
       "      <td>5099.100000</td>\n",
       "    </tr>\n",
       "    <tr>\n",
       "      <th>50%</th>\n",
       "      <td>37.000000</td>\n",
       "      <td>181.000000</td>\n",
       "      <td>2.000000</td>\n",
       "      <td>999.000000</td>\n",
       "      <td>0.000000</td>\n",
       "      <td>0.000000</td>\n",
       "      <td>1.100000</td>\n",
       "      <td>93.444000</td>\n",
       "      <td>-41.800000</td>\n",
       "      <td>4.856000</td>\n",
       "      <td>5191.000000</td>\n",
       "    </tr>\n",
       "    <tr>\n",
       "      <th>75%</th>\n",
       "      <td>45.000000</td>\n",
       "      <td>321.000000</td>\n",
       "      <td>3.000000</td>\n",
       "      <td>999.000000</td>\n",
       "      <td>0.000000</td>\n",
       "      <td>0.000000</td>\n",
       "      <td>1.400000</td>\n",
       "      <td>93.994000</td>\n",
       "      <td>-36.400000</td>\n",
       "      <td>4.961000</td>\n",
       "      <td>5228.100000</td>\n",
       "    </tr>\n",
       "    <tr>\n",
       "      <th>max</th>\n",
       "      <td>95.000000</td>\n",
       "      <td>4918.000000</td>\n",
       "      <td>43.000000</td>\n",
       "      <td>999.000000</td>\n",
       "      <td>7.000000</td>\n",
       "      <td>1.000000</td>\n",
       "      <td>1.400000</td>\n",
       "      <td>94.767000</td>\n",
       "      <td>-26.900000</td>\n",
       "      <td>5.045000</td>\n",
       "      <td>5228.100000</td>\n",
       "    </tr>\n",
       "  </tbody>\n",
       "</table>\n",
       "</div>"
      ],
      "text/plain": [
       "                age      duration      campaign         pdays      previous  \\\n",
       "count  30488.000000  30488.000000  30488.000000  30488.000000  30488.000000   \n",
       "mean      39.030012    259.484092      2.521451    956.332295      0.194273   \n",
       "std       10.333529    261.714262      2.720150    201.373292      0.522788   \n",
       "min       17.000000      0.000000      1.000000      0.000000      0.000000   \n",
       "25%       31.000000    103.000000      1.000000    999.000000      0.000000   \n",
       "50%       37.000000    181.000000      2.000000    999.000000      0.000000   \n",
       "75%       45.000000    321.000000      3.000000    999.000000      0.000000   \n",
       "max       95.000000   4918.000000     43.000000    999.000000      7.000000   \n",
       "\n",
       "           poutcome  emp.var.rate  cons.price.idx  cons.conf.idx  \\\n",
       "count  30488.000000  30488.000000    30488.000000   30488.000000   \n",
       "mean       0.039065     -0.071510       93.523311     -40.602263   \n",
       "std        0.193752      1.610399        0.585374       4.789249   \n",
       "min        0.000000     -3.400000       92.201000     -50.800000   \n",
       "25%        0.000000     -1.800000       93.075000     -42.700000   \n",
       "50%        0.000000      1.100000       93.444000     -41.800000   \n",
       "75%        0.000000      1.400000       93.994000     -36.400000   \n",
       "max        1.000000      1.400000       94.767000     -26.900000   \n",
       "\n",
       "          euribor3m   nr.employed  \n",
       "count  30488.000000  30488.000000  \n",
       "mean       3.459938   5160.813409  \n",
       "std        1.777231     75.158065  \n",
       "min        0.634000   4963.600000  \n",
       "25%        1.313000   5099.100000  \n",
       "50%        4.856000   5191.000000  \n",
       "75%        4.961000   5228.100000  \n",
       "max        5.045000   5228.100000  "
      ]
     },
     "execution_count": 240,
     "metadata": {},
     "output_type": "execute_result"
    }
   ],
   "source": [
    "df.describe()"
   ]
  },
  {
   "cell_type": "code",
   "execution_count": 241,
   "id": "bddf1729",
   "metadata": {},
   "outputs": [],
   "source": [
    "#Age range, from 18 to 95 years old. However, a majority of age of 30s and 40s (33 to 48 years old fall within the 25th to 75th percentiles). The distribution of customer age is fairly normal with a small standard deviation."
   ]
  },
  {
   "cell_type": "code",
   "execution_count": 242,
   "id": "af88491b",
   "metadata": {},
   "outputs": [],
   "source": [
    "#'emp.var.rate', 'cons.price.idx', 'cons.conf.idx', 'euribor3m' and 'nr.employed' don't show any apparent distribution"
   ]
  },
  {
   "cell_type": "code",
   "execution_count": 243,
   "id": "22e3ba5e",
   "metadata": {},
   "outputs": [],
   "source": [
    "#There is also a issue in pdays feature. if the value is 999, then it will be replaced with a 0 which means that the client was not previously contacted"
   ]
  },
  {
   "cell_type": "code",
   "execution_count": 244,
   "id": "3fe847ba",
   "metadata": {},
   "outputs": [
    {
     "data": {
      "text/plain": [
       "999    29178\n",
       "3        381\n",
       "6        363\n",
       "4        102\n",
       "2         53\n",
       "9         53\n",
       "7         50\n",
       "12        50\n",
       "5         43\n",
       "10        40\n",
       "13        33\n",
       "11        25\n",
       "15        22\n",
       "1         21\n",
       "14        17\n",
       "0         14\n",
       "8         13\n",
       "16         8\n",
       "17         6\n",
       "18         5\n",
       "22         3\n",
       "19         3\n",
       "21         2\n",
       "25         1\n",
       "26         1\n",
       "27         1\n",
       "Name: pdays, dtype: int64"
      ]
     },
     "execution_count": 244,
     "metadata": {},
     "output_type": "execute_result"
    }
   ],
   "source": [
    "df.pdays.value_counts()"
   ]
  },
  {
   "cell_type": "code",
   "execution_count": 245,
   "id": "acd4d8ff",
   "metadata": {},
   "outputs": [],
   "source": [
    "df.loc[df['pdays'] == 999, 'pdays'] = 0"
   ]
  },
  {
   "cell_type": "code",
   "execution_count": 246,
   "id": "a3880ac7",
   "metadata": {},
   "outputs": [
    {
     "data": {
      "text/plain": [
       "0     29192\n",
       "3       381\n",
       "6       363\n",
       "4       102\n",
       "2        53\n",
       "9        53\n",
       "7        50\n",
       "12       50\n",
       "5        43\n",
       "10       40\n",
       "13       33\n",
       "11       25\n",
       "15       22\n",
       "1        21\n",
       "14       17\n",
       "8        13\n",
       "16        8\n",
       "17        6\n",
       "18        5\n",
       "22        3\n",
       "19        3\n",
       "21        2\n",
       "25        1\n",
       "26        1\n",
       "27        1\n",
       "Name: pdays, dtype: int64"
      ]
     },
     "execution_count": 246,
     "metadata": {},
     "output_type": "execute_result"
    }
   ],
   "source": [
    "df.pdays.value_counts()"
   ]
  },
  {
   "cell_type": "code",
   "execution_count": 247,
   "id": "c7d442da",
   "metadata": {},
   "outputs": [
    {
     "data": {
      "text/plain": [
       "0    25836\n",
       "1     3752\n",
       "2      633\n",
       "3      190\n",
       "4       56\n",
       "5       16\n",
       "6        4\n",
       "7        1\n",
       "Name: previous, dtype: int64"
      ]
     },
     "execution_count": 247,
     "metadata": {},
     "output_type": "execute_result"
    }
   ],
   "source": [
    "df.previous.value_counts()"
   ]
  },
  {
   "cell_type": "code",
   "execution_count": 248,
   "id": "a218f21b",
   "metadata": {},
   "outputs": [
    {
     "data": {
      "image/png": "[encoded data removed]",
      "text/plain": [
       "<Figure size 576x576 with 2 Axes>"
      ]
     },
     "metadata": {},
     "output_type": "display_data"
    }
   ],
   "source": [
    "df[['campaign']].plot(kind = 'box', \n",
    "                                              figsize = (8,8),\n",
    "                                              subplots = True, layout = (1,2),\n",
    "                                              sharex = False, sharey = False,\n",
    "                                              title='The Distribution of Campaign')\n",
    "plt.show()"
   ]
  },
  {
   "cell_type": "code",
   "execution_count": 249,
   "id": "436a7cd8",
   "metadata": {},
   "outputs": [],
   "source": [
    "# Most clients have been reached by the bank for one to three times, which is reasonable.\n",
    "# However, some clients have been contacted by as high as 58 times, which is not normal."
   ]
  },
  {
   "cell_type": "code",
   "execution_count": 250,
   "id": "4a818398",
   "metadata": {},
   "outputs": [],
   "source": [
    "# Convert target variable into numeric\n",
    "df.y = df.y.map({'no':0, 'yes':1}).astype('uint8')"
   ]
  },
  {
   "cell_type": "code",
   "execution_count": 251,
   "id": "158f76c4",
   "metadata": {},
   "outputs": [
    {
     "data": {
      "image/png": "[encoded data removed]",
      "text/plain": [
       "<Figure size 1008x648 with 2 Axes>"
      ]
     },
     "metadata": {},
     "output_type": "display_data"
    }
   ],
   "source": [
    "fig, ax = plt.subplots(figsize=(14,9))\n",
    "sns.heatmap(df.corr(), vmin=-1, vmax=1, cmap=sns.diverging_palette(20, 220, as_cmap=True), annot=True, linewidths=.5)\n",
    "plt.show()"
   ]
  },
  {
   "cell_type": "code",
   "execution_count": 252,
   "id": "a7e873b1",
   "metadata": {},
   "outputs": [],
   "source": [
    "#Since pdays and previous features are correlated, I convert previous feature to categorical feature."
   ]
  },
  {
   "cell_type": "code",
   "execution_count": 253,
   "id": "3e5f3880",
   "metadata": {},
   "outputs": [
    {
     "data": {
      "text/html": [
       "<div>\n",
       "<style scoped>\n",
       "    .dataframe tbody tr th:only-of-type {\n",
       "        vertical-align: middle;\n",
       "    }\n",
       "\n",
       "    .dataframe tbody tr th {\n",
       "        vertical-align: top;\n",
       "    }\n",
       "\n",
       "    .dataframe thead th {\n",
       "        text-align: right;\n",
       "    }\n",
       "</style>\n",
       "<table border=\"1\" class=\"dataframe\">\n",
       "  <thead>\n",
       "    <tr style=\"text-align: right;\">\n",
       "      <th></th>\n",
       "      <th>age</th>\n",
       "      <th>job</th>\n",
       "      <th>marital</th>\n",
       "      <th>education</th>\n",
       "      <th>housing</th>\n",
       "      <th>loan</th>\n",
       "      <th>contact</th>\n",
       "      <th>month</th>\n",
       "      <th>day_of_week</th>\n",
       "      <th>duration</th>\n",
       "      <th>campaign</th>\n",
       "      <th>pdays</th>\n",
       "      <th>previous</th>\n",
       "      <th>poutcome</th>\n",
       "      <th>emp.var.rate</th>\n",
       "      <th>cons.price.idx</th>\n",
       "      <th>cons.conf.idx</th>\n",
       "      <th>euribor3m</th>\n",
       "      <th>nr.employed</th>\n",
       "      <th>y</th>\n",
       "    </tr>\n",
       "  </thead>\n",
       "  <tbody>\n",
       "    <tr>\n",
       "      <th>0</th>\n",
       "      <td>56</td>\n",
       "      <td>housemaid</td>\n",
       "      <td>married</td>\n",
       "      <td>middle.school</td>\n",
       "      <td>no</td>\n",
       "      <td>no</td>\n",
       "      <td>telephone</td>\n",
       "      <td>may</td>\n",
       "      <td>mon</td>\n",
       "      <td>261</td>\n",
       "      <td>1</td>\n",
       "      <td>0</td>\n",
       "      <td>0</td>\n",
       "      <td>0</td>\n",
       "      <td>1.1</td>\n",
       "      <td>93.994</td>\n",
       "      <td>-36.4</td>\n",
       "      <td>4.857</td>\n",
       "      <td>5191.0</td>\n",
       "      <td>0</td>\n",
       "    </tr>\n",
       "    <tr>\n",
       "      <th>1</th>\n",
       "      <td>37</td>\n",
       "      <td>services</td>\n",
       "      <td>married</td>\n",
       "      <td>high.school</td>\n",
       "      <td>yes</td>\n",
       "      <td>no</td>\n",
       "      <td>telephone</td>\n",
       "      <td>may</td>\n",
       "      <td>mon</td>\n",
       "      <td>226</td>\n",
       "      <td>1</td>\n",
       "      <td>0</td>\n",
       "      <td>0</td>\n",
       "      <td>0</td>\n",
       "      <td>1.1</td>\n",
       "      <td>93.994</td>\n",
       "      <td>-36.4</td>\n",
       "      <td>4.857</td>\n",
       "      <td>5191.0</td>\n",
       "      <td>0</td>\n",
       "    </tr>\n",
       "    <tr>\n",
       "      <th>2</th>\n",
       "      <td>40</td>\n",
       "      <td>admin.</td>\n",
       "      <td>married</td>\n",
       "      <td>middle.school</td>\n",
       "      <td>no</td>\n",
       "      <td>no</td>\n",
       "      <td>telephone</td>\n",
       "      <td>may</td>\n",
       "      <td>mon</td>\n",
       "      <td>151</td>\n",
       "      <td>1</td>\n",
       "      <td>0</td>\n",
       "      <td>0</td>\n",
       "      <td>0</td>\n",
       "      <td>1.1</td>\n",
       "      <td>93.994</td>\n",
       "      <td>-36.4</td>\n",
       "      <td>4.857</td>\n",
       "      <td>5191.0</td>\n",
       "      <td>0</td>\n",
       "    </tr>\n",
       "    <tr>\n",
       "      <th>3</th>\n",
       "      <td>56</td>\n",
       "      <td>services</td>\n",
       "      <td>married</td>\n",
       "      <td>high.school</td>\n",
       "      <td>no</td>\n",
       "      <td>yes</td>\n",
       "      <td>telephone</td>\n",
       "      <td>may</td>\n",
       "      <td>mon</td>\n",
       "      <td>307</td>\n",
       "      <td>1</td>\n",
       "      <td>0</td>\n",
       "      <td>0</td>\n",
       "      <td>0</td>\n",
       "      <td>1.1</td>\n",
       "      <td>93.994</td>\n",
       "      <td>-36.4</td>\n",
       "      <td>4.857</td>\n",
       "      <td>5191.0</td>\n",
       "      <td>0</td>\n",
       "    </tr>\n",
       "    <tr>\n",
       "      <th>4</th>\n",
       "      <td>59</td>\n",
       "      <td>admin.</td>\n",
       "      <td>married</td>\n",
       "      <td>professional.course</td>\n",
       "      <td>no</td>\n",
       "      <td>no</td>\n",
       "      <td>telephone</td>\n",
       "      <td>may</td>\n",
       "      <td>mon</td>\n",
       "      <td>139</td>\n",
       "      <td>1</td>\n",
       "      <td>0</td>\n",
       "      <td>0</td>\n",
       "      <td>0</td>\n",
       "      <td>1.1</td>\n",
       "      <td>93.994</td>\n",
       "      <td>-36.4</td>\n",
       "      <td>4.857</td>\n",
       "      <td>5191.0</td>\n",
       "      <td>0</td>\n",
       "    </tr>\n",
       "  </tbody>\n",
       "</table>\n",
       "</div>"
      ],
      "text/plain": [
       "   age        job  marital            education housing loan    contact month  \\\n",
       "0   56  housemaid  married        middle.school      no   no  telephone   may   \n",
       "1   37   services  married          high.school     yes   no  telephone   may   \n",
       "2   40     admin.  married        middle.school      no   no  telephone   may   \n",
       "3   56   services  married          high.school      no  yes  telephone   may   \n",
       "4   59     admin.  married  professional.course      no   no  telephone   may   \n",
       "\n",
       "  day_of_week  duration  campaign  pdays  previous  poutcome  emp.var.rate  \\\n",
       "0         mon       261         1      0         0         0           1.1   \n",
       "1         mon       226         1      0         0         0           1.1   \n",
       "2         mon       151         1      0         0         0           1.1   \n",
       "3         mon       307         1      0         0         0           1.1   \n",
       "4         mon       139         1      0         0         0           1.1   \n",
       "\n",
       "   cons.price.idx  cons.conf.idx  euribor3m  nr.employed  y  \n",
       "0          93.994          -36.4      4.857       5191.0  0  \n",
       "1          93.994          -36.4      4.857       5191.0  0  \n",
       "2          93.994          -36.4      4.857       5191.0  0  \n",
       "3          93.994          -36.4      4.857       5191.0  0  \n",
       "4          93.994          -36.4      4.857       5191.0  0  "
      ]
     },
     "execution_count": 253,
     "metadata": {},
     "output_type": "execute_result"
    }
   ],
   "source": [
    "df.previous = df.previous.apply(lambda x: 1 if x > 0 else 0).astype('uint8') \n",
    "df.head()"
   ]
  },
  {
   "cell_type": "code",
   "execution_count": 254,
   "id": "aa806cab",
   "metadata": {},
   "outputs": [],
   "source": [
    "#Encoding the remaining features\n",
    "le = preprocessing.LabelEncoder()\n",
    "objects = [\"job\",\"marital\",\"education\",\"housing\",\"loan\",\"contact\",\"month\",\"day_of_week\"]\n",
    "for i in objects:  \n",
    "    df[i] = le.fit_transform(df[i])"
   ]
  },
  {
   "cell_type": "code",
   "execution_count": 255,
   "id": "9e25226f",
   "metadata": {},
   "outputs": [
    {
     "data": {
      "text/plain": [
       "age               30488\n",
       "job               30488\n",
       "marital           30488\n",
       "education         30488\n",
       "housing           30488\n",
       "loan              30488\n",
       "contact           30488\n",
       "month             30488\n",
       "day_of_week       30488\n",
       "duration          30488\n",
       "campaign          30488\n",
       "pdays             30488\n",
       "previous          30488\n",
       "poutcome          30488\n",
       "emp.var.rate      30488\n",
       "cons.price.idx    30488\n",
       "cons.conf.idx     30488\n",
       "euribor3m         30488\n",
       "nr.employed       30488\n",
       "y                 30488\n",
       "dtype: int64"
      ]
     },
     "execution_count": 255,
     "metadata": {},
     "output_type": "execute_result"
    }
   ],
   "source": [
    "df.count()"
   ]
  },
  {
   "cell_type": "code",
   "execution_count": 256,
   "id": "7737d0e3",
   "metadata": {},
   "outputs": [
    {
     "name": "stderr",
     "output_type": "stream",
     "text": [
      "C:\\Users\\LENOVO\\anaconda3\\lib\\site-packages\\statsmodels\\graphics\\gofplots.py:993: UserWarning: marker is redundantly defined by the 'marker' keyword argument and the fmt string \"bo\" (-> marker='o'). The keyword argument will take precedence.\n",
      "  ax.plot(x, y, fmt, **plot_style)\n"
     ]
    },
    {
     "data": {
      "text/plain": [
       "<Figure size 576x360 with 0 Axes>"
      ]
     },
     "metadata": {},
     "output_type": "display_data"
    },
    {
     "data": {
      "image/png": "[encoded data removed]",
      "text/plain": [
       "<Figure size 432x288 with 1 Axes>"
      ]
     },
     "metadata": {},
     "output_type": "display_data"
    },
    {
     "name": "stderr",
     "output_type": "stream",
     "text": [
      "C:\\Users\\LENOVO\\anaconda3\\lib\\site-packages\\statsmodels\\graphics\\gofplots.py:993: UserWarning: marker is redundantly defined by the 'marker' keyword argument and the fmt string \"bo\" (-> marker='o'). The keyword argument will take precedence.\n",
      "  ax.plot(x, y, fmt, **plot_style)\n"
     ]
    },
    {
     "data": {
      "text/plain": [
       "<Figure size 576x360 with 0 Axes>"
      ]
     },
     "metadata": {},
     "output_type": "display_data"
    },
    {
     "data": {
      "image/png": "[encoded data removed]",
      "text/plain": [
       "<Figure size 432x288 with 1 Axes>"
      ]
     },
     "metadata": {},
     "output_type": "display_data"
    },
    {
     "name": "stderr",
     "output_type": "stream",
     "text": [
      "C:\\Users\\LENOVO\\anaconda3\\lib\\site-packages\\statsmodels\\graphics\\gofplots.py:993: UserWarning: marker is redundantly defined by the 'marker' keyword argument and the fmt string \"bo\" (-> marker='o'). The keyword argument will take precedence.\n",
      "  ax.plot(x, y, fmt, **plot_style)\n"
     ]
    },
    {
     "data": {
      "text/plain": [
       "<Figure size 576x360 with 0 Axes>"
      ]
     },
     "metadata": {},
     "output_type": "display_data"
    },
    {
     "data": {
      "image/png": "[encoded data removed]",
      "text/plain": [
       "<Figure size 432x288 with 1 Axes>"
      ]
     },
     "metadata": {},
     "output_type": "display_data"
    },
    {
     "name": "stderr",
     "output_type": "stream",
     "text": [
      "C:\\Users\\LENOVO\\anaconda3\\lib\\site-packages\\statsmodels\\graphics\\gofplots.py:993: UserWarning: marker is redundantly defined by the 'marker' keyword argument and the fmt string \"bo\" (-> marker='o'). The keyword argument will take precedence.\n",
      "  ax.plot(x, y, fmt, **plot_style)\n"
     ]
    },
    {
     "data": {
      "text/plain": [
       "<Figure size 576x360 with 0 Axes>"
      ]
     },
     "metadata": {},
     "output_type": "display_data"
    },
    {
     "data": {
      "image/png": "[encoded data removed]",
      "text/plain": [
       "<Figure size 432x288 with 1 Axes>"
      ]
     },
     "metadata": {},
     "output_type": "display_data"
    }
   ],
   "source": [
    "#checking the distribution of independent variables\n",
    "#Q–Q plot (quantile-quantile plot) is a probability plot, a graphical method for comparing two probability distributions by plotting their quantiles against each other\n",
    "from statsmodels.graphics.gofplots import qqplot\n",
    "data_norm=df[['emp.var.rate','euribor3m','nr.employed', 'poutcome']]\n",
    "\n",
    "\n",
    "for c in data_norm.columns[:]:\n",
    "  plt.figure(figsize=(8,5))\n",
    "  fig=qqplot(data_norm[c],line='45',fit='True')\n",
    "  plt.xticks(fontsize=13)\n",
    "  plt.yticks(fontsize=13)\n",
    "  plt.xlabel(\"Theoretical quantiles\",fontsize=15)\n",
    "  plt.ylabel(\"Sample quantiles\",fontsize=15)\n",
    "  plt.title(\"Q-Q plot of {}\".format(c),fontsize=16)\n",
    "  plt.grid(True)\n",
    "  plt.show()"
   ]
  },
  {
   "cell_type": "code",
   "execution_count": 257,
   "id": "badb10f8",
   "metadata": {},
   "outputs": [],
   "source": [
    "#Outliers Removal\n",
    "Q1 = df.quantile(0.05)\n",
    "Q3 = df.quantile(0.95)\n",
    "#IQR = Q3 - Q1 I tried IQR method but it's returing me with nan, so I opted manually \n",
    "#to remove outliers less than 5 persentile and more than 95 percentile.\n",
    "\n",
    "#data2 = data2[~((data2 < (Q1 - 1.5 * IQR)) |(data > (Q3 + 1.5 * IQR))).any(axis=1)]\n",
    "df = df[~((df < (Q1)) |(df> (Q3))).any(axis=1)]"
   ]
  },
  {
   "cell_type": "code",
   "execution_count": 258,
   "id": "0f3b7da3",
   "metadata": {},
   "outputs": [
    {
     "data": {
      "image/png": "[encoded data removed]",
      "text/plain": [
       "<Figure size 1008x720 with 20 Axes>"
      ]
     },
     "metadata": {},
     "output_type": "display_data"
    }
   ],
   "source": [
    "plt.style.use('seaborn-whitegrid')\n",
    "\n",
    "df.hist(bins=20, figsize=(14,10), color='#069EE1')\n",
    "plt.show();"
   ]
  },
  {
   "cell_type": "code",
   "execution_count": 259,
   "id": "8126c444",
   "metadata": {},
   "outputs": [
    {
     "data": {
      "text/html": [
       "<div>\n",
       "<style scoped>\n",
       "    .dataframe tbody tr th:only-of-type {\n",
       "        vertical-align: middle;\n",
       "    }\n",
       "\n",
       "    .dataframe tbody tr th {\n",
       "        vertical-align: top;\n",
       "    }\n",
       "\n",
       "    .dataframe thead th {\n",
       "        text-align: right;\n",
       "    }\n",
       "</style>\n",
       "<table border=\"1\" class=\"dataframe\">\n",
       "  <thead>\n",
       "    <tr style=\"text-align: right;\">\n",
       "      <th></th>\n",
       "      <th>age</th>\n",
       "      <th>job</th>\n",
       "      <th>marital</th>\n",
       "      <th>education</th>\n",
       "      <th>housing</th>\n",
       "      <th>loan</th>\n",
       "      <th>contact</th>\n",
       "      <th>month</th>\n",
       "      <th>day_of_week</th>\n",
       "      <th>duration</th>\n",
       "      <th>campaign</th>\n",
       "      <th>pdays</th>\n",
       "      <th>previous</th>\n",
       "      <th>poutcome</th>\n",
       "      <th>emp.var.rate</th>\n",
       "      <th>cons.price.idx</th>\n",
       "      <th>cons.conf.idx</th>\n",
       "      <th>euribor3m</th>\n",
       "      <th>nr.employed</th>\n",
       "      <th>y</th>\n",
       "    </tr>\n",
       "  </thead>\n",
       "  <tbody>\n",
       "    <tr>\n",
       "      <th>0</th>\n",
       "      <td>56</td>\n",
       "      <td>3</td>\n",
       "      <td>1</td>\n",
       "      <td>2</td>\n",
       "      <td>0</td>\n",
       "      <td>0</td>\n",
       "      <td>1</td>\n",
       "      <td>6</td>\n",
       "      <td>1</td>\n",
       "      <td>261</td>\n",
       "      <td>1</td>\n",
       "      <td>0</td>\n",
       "      <td>0</td>\n",
       "      <td>0</td>\n",
       "      <td>1.1</td>\n",
       "      <td>93.994</td>\n",
       "      <td>-36.4</td>\n",
       "      <td>4.857</td>\n",
       "      <td>5191.0</td>\n",
       "      <td>0</td>\n",
       "    </tr>\n",
       "    <tr>\n",
       "      <th>1</th>\n",
       "      <td>37</td>\n",
       "      <td>7</td>\n",
       "      <td>1</td>\n",
       "      <td>0</td>\n",
       "      <td>1</td>\n",
       "      <td>0</td>\n",
       "      <td>1</td>\n",
       "      <td>6</td>\n",
       "      <td>1</td>\n",
       "      <td>226</td>\n",
       "      <td>1</td>\n",
       "      <td>0</td>\n",
       "      <td>0</td>\n",
       "      <td>0</td>\n",
       "      <td>1.1</td>\n",
       "      <td>93.994</td>\n",
       "      <td>-36.4</td>\n",
       "      <td>4.857</td>\n",
       "      <td>5191.0</td>\n",
       "      <td>0</td>\n",
       "    </tr>\n",
       "    <tr>\n",
       "      <th>2</th>\n",
       "      <td>40</td>\n",
       "      <td>0</td>\n",
       "      <td>1</td>\n",
       "      <td>2</td>\n",
       "      <td>0</td>\n",
       "      <td>0</td>\n",
       "      <td>1</td>\n",
       "      <td>6</td>\n",
       "      <td>1</td>\n",
       "      <td>151</td>\n",
       "      <td>1</td>\n",
       "      <td>0</td>\n",
       "      <td>0</td>\n",
       "      <td>0</td>\n",
       "      <td>1.1</td>\n",
       "      <td>93.994</td>\n",
       "      <td>-36.4</td>\n",
       "      <td>4.857</td>\n",
       "      <td>5191.0</td>\n",
       "      <td>0</td>\n",
       "    </tr>\n",
       "    <tr>\n",
       "      <th>3</th>\n",
       "      <td>56</td>\n",
       "      <td>7</td>\n",
       "      <td>1</td>\n",
       "      <td>0</td>\n",
       "      <td>0</td>\n",
       "      <td>1</td>\n",
       "      <td>1</td>\n",
       "      <td>6</td>\n",
       "      <td>1</td>\n",
       "      <td>307</td>\n",
       "      <td>1</td>\n",
       "      <td>0</td>\n",
       "      <td>0</td>\n",
       "      <td>0</td>\n",
       "      <td>1.1</td>\n",
       "      <td>93.994</td>\n",
       "      <td>-36.4</td>\n",
       "      <td>4.857</td>\n",
       "      <td>5191.0</td>\n",
       "      <td>0</td>\n",
       "    </tr>\n",
       "    <tr>\n",
       "      <th>8</th>\n",
       "      <td>29</td>\n",
       "      <td>1</td>\n",
       "      <td>2</td>\n",
       "      <td>0</td>\n",
       "      <td>0</td>\n",
       "      <td>1</td>\n",
       "      <td>1</td>\n",
       "      <td>6</td>\n",
       "      <td>1</td>\n",
       "      <td>137</td>\n",
       "      <td>1</td>\n",
       "      <td>0</td>\n",
       "      <td>0</td>\n",
       "      <td>0</td>\n",
       "      <td>1.1</td>\n",
       "      <td>93.994</td>\n",
       "      <td>-36.4</td>\n",
       "      <td>4.857</td>\n",
       "      <td>5191.0</td>\n",
       "      <td>0</td>\n",
       "    </tr>\n",
       "  </tbody>\n",
       "</table>\n",
       "</div>"
      ],
      "text/plain": [
       "   age  job  marital  education  housing  loan  contact  month  day_of_week  \\\n",
       "0   56    3        1          2        0     0        1      6            1   \n",
       "1   37    7        1          0        1     0        1      6            1   \n",
       "2   40    0        1          2        0     0        1      6            1   \n",
       "3   56    7        1          0        0     1        1      6            1   \n",
       "8   29    1        2          0        0     1        1      6            1   \n",
       "\n",
       "   duration  campaign  pdays  previous  poutcome  emp.var.rate  \\\n",
       "0       261         1      0         0         0           1.1   \n",
       "1       226         1      0         0         0           1.1   \n",
       "2       151         1      0         0         0           1.1   \n",
       "3       307         1      0         0         0           1.1   \n",
       "8       137         1      0         0         0           1.1   \n",
       "\n",
       "   cons.price.idx  cons.conf.idx  euribor3m  nr.employed  y  \n",
       "0          93.994          -36.4      4.857       5191.0  0  \n",
       "1          93.994          -36.4      4.857       5191.0  0  \n",
       "2          93.994          -36.4      4.857       5191.0  0  \n",
       "3          93.994          -36.4      4.857       5191.0  0  \n",
       "8          93.994          -36.4      4.857       5191.0  0  "
      ]
     },
     "execution_count": 259,
     "metadata": {},
     "output_type": "execute_result"
    }
   ],
   "source": [
    "df.head()"
   ]
  },
  {
   "cell_type": "code",
   "execution_count": 260,
   "id": "70296180",
   "metadata": {},
   "outputs": [],
   "source": [
    "# We don't have any missing value and our dataset is in order. So, we can start with modelling."
   ]
  },
  {
   "cell_type": "code",
   "execution_count": 261,
   "id": "3c2b02ae",
   "metadata": {},
   "outputs": [],
   "source": [
    "# MODELLING"
   ]
  },
  {
   "cell_type": "code",
   "execution_count": 262,
   "id": "cb34092a",
   "metadata": {},
   "outputs": [],
   "source": [
    "# The goal of classification is to accurately predict the target class for each case in the data"
   ]
  },
  {
   "cell_type": "code",
   "execution_count": 263,
   "id": "3910df04",
   "metadata": {},
   "outputs": [],
   "source": [
    "#Data Splitting Libraries\n",
    "from sklearn.model_selection import train_test_split,GridSearchCV\n",
    "from sklearn.metrics import confusion_matrix, accuracy_score,classification_report\n",
    "#Classification Libraries\n",
    "from sklearn.linear_model import LogisticRegression\n",
    "from sklearn.tree import DecisionTreeClassifier\n",
    "from sklearn.ensemble import RandomForestClassifier\n",
    "from sklearn.ensemble import GradientBoostingClassifier\n",
    "from sklearn.neighbors import KNeighborsClassifier"
   ]
  },
  {
   "cell_type": "code",
   "execution_count": 264,
   "id": "172b6306",
   "metadata": {},
   "outputs": [
    {
     "name": "stdout",
     "output_type": "stream",
     "text": [
      "X Columns:  ['age', 'job', 'marital', 'education', 'housing', 'loan', 'contact', 'month', 'day_of_week', 'duration', 'campaign', 'pdays', 'previous', 'poutcome', 'emp.var.rate', 'cons.price.idx', 'cons.conf.idx', 'euribor3m', 'nr.employed']\n"
     ]
    }
   ],
   "source": [
    "X = df.iloc[:,df.columns != 'y']\n",
    "y = df.y\n",
    "print(\"X Columns: \",list(X.columns))"
   ]
  },
  {
   "cell_type": "code",
   "execution_count": 265,
   "id": "5c83da11",
   "metadata": {},
   "outputs": [],
   "source": [
    "def ML_training(X,y):\n",
    "    X_train, X_test, y_train, y_test = train_test_split(X, y, test_size = 0.20, random_state = 0)\n",
    "    \n",
    "    log_lm = LogisticRegression()\n",
    "    log_lm.fit(X_train, y_train)\n",
    "    logy_pred = log_lm.predict(X_test)\n",
    "    acclr = accuracy_score(y_test, logy_pred)*100\n",
    "    logquestions = pd.DataFrame({'features': X.columns,'Coef': (log_lm.coef_[0])*100})\n",
    "    logquestions = logquestions.sort_values(by='Coef', ascending=False)\n",
    "    ##############################\n",
    "    dtree=DecisionTreeClassifier()\n",
    "    dtree.fit(X_train, y_train)\n",
    "    dtreey_pred = dtree.predict(X_test)\n",
    "    accdtree = accuracy_score(y_test, dtreey_pred)*100\n",
    "    dtreequestions = importance(dtree,X)\n",
    "    ##############################\n",
    "    rf = RandomForestClassifier(random_state=42)\n",
    "    rf.fit(X_train, y_train)\n",
    "    rfy_pred = rf.predict(X_test)\n",
    "    accrf = accuracy_score(y_test, rfy_pred)*100\n",
    "    accquestions = importance(rf,X)\n",
    "    #############################\n",
    "    gbrt = GradientBoostingClassifier(random_state=42)\n",
    "    gbrt.fit(X_train, y_train)\n",
    "    gbrt_pred=gbrt.predict(X_test)\n",
    "    accgbrt = accuracy_score(y_test, gbrt_pred)*100\n",
    "    gbrtaccquestions = importance(gbrt,X)\n",
    "    #############################\n",
    "    knn = KNeighborsClassifier()\n",
    "    knn.fit(X_train, y_train)\n",
    "    knn_pred=knn.predict(X_test)\n",
    "    knngbrt = accuracy_score(y_test, knn_pred)*100\n",
    "    #knnaccquestions = importance(knn)\n",
    "\n",
    "    # Reporting\n",
    "    print(\"Logistic Regression Report in test set\")\n",
    "    print(classification_report(y_test, logy_pred))\n",
    "    print(confusion_matrix(y_test,logy_pred))\n",
    "    print(logquestions)\n",
    "    print(\"------------------------------------------------------\")\n",
    "    print(\"Decision Tree Report in test set\")\n",
    "    print(classification_report(y_test, dtreey_pred))\n",
    "    print(confusion_matrix(y_test,dtreey_pred))\n",
    "    print(dtreequestions)\n",
    "    print(\"------------------------------------------------------\")\n",
    "    print(\"Random Forest Report in test set\")\n",
    "    print(classification_report(y_test, rfy_pred))\n",
    "    print(confusion_matrix(y_test,rfy_pred))\n",
    "    print(accquestions)\n",
    "    print(\"------------------------------------------------------\")\n",
    "    print(\"Gradient Boosting in test set\")\n",
    "    print(classification_report(y_test, gbrt_pred))\n",
    "    print(confusion_matrix(y_test,gbrt_pred))\n",
    "    print(gbrtaccquestions)\n",
    "    print(\"------------------------------------------------------\")\n",
    "    print(\"K Neighbors in test set\")\n",
    "    print(classification_report(y_test, knn_pred))\n",
    "    print(confusion_matrix(y_test,knn_pred))\n",
    "    #print(knnaccquestions)\n",
    "    print(\"------------------------------------------------------\")"
   ]
  },
  {
   "cell_type": "code",
   "execution_count": 266,
   "id": "d414ebd6",
   "metadata": {},
   "outputs": [],
   "source": [
    "def importance(model,X):\n",
    "    questions = pd.DataFrame({'features': X.columns,'importance': (model.feature_importances_)*100})\n",
    "    questions.sort_values(by='importance', ascending=False)\n",
    "    questions = questions.sort_values(by='importance', ascending=False)\n",
    "    return questions"
   ]
  },
  {
   "cell_type": "code",
   "execution_count": 267,
   "id": "4742fd36",
   "metadata": {},
   "outputs": [
    {
     "name": "stderr",
     "output_type": "stream",
     "text": [
      "C:\\Users\\LENOVO\\anaconda3\\lib\\site-packages\\sklearn\\linear_model\\_logistic.py:444: ConvergenceWarning: lbfgs failed to converge (status=1):\n",
      "STOP: TOTAL NO. of ITERATIONS REACHED LIMIT.\n",
      "\n",
      "Increase the number of iterations (max_iter) or scale the data as shown in:\n",
      "    https://scikit-learn.org/stable/modules/preprocessing.html\n",
      "Please also refer to the documentation for alternative solver options:\n",
      "    https://scikit-learn.org/stable/modules/linear_model.html#logistic-regression\n",
      "  n_iter_i = _check_optimize_result(\n"
     ]
    },
    {
     "name": "stdout",
     "output_type": "stream",
     "text": [
      "Logistic Regression Report in test set\n",
      "              precision    recall  f1-score   support\n",
      "\n",
      "           0       0.96      0.99      0.97      3802\n",
      "           1       0.53      0.17      0.25       209\n",
      "\n",
      "    accuracy                           0.95      4011\n",
      "   macro avg       0.74      0.58      0.61      4011\n",
      "weighted avg       0.93      0.95      0.94      4011\n",
      "\n",
      "[[3771   31]\n",
      " [ 174   35]]\n",
      "          features       Coef\n",
      "3        education  20.901462\n",
      "15  cons.price.idx  13.527266\n",
      "16   cons.conf.idx   8.397942\n",
      "2          marital   4.062173\n",
      "8      day_of_week   3.973967\n",
      "9         duration   0.796672\n",
      "5             loan   0.096087\n",
      "11           pdays   0.000000\n",
      "13        poutcome   0.000000\n",
      "18     nr.employed  -0.255299\n",
      "4          housing  -0.265483\n",
      "0              age  -1.014547\n",
      "1              job  -1.129207\n",
      "6          contact  -4.168653\n",
      "12        previous  -4.442488\n",
      "10        campaign  -7.627041\n",
      "7            month -17.649520\n",
      "17       euribor3m -30.084015\n",
      "14    emp.var.rate -39.899612\n",
      "------------------------------------------------------\n",
      "Decision Tree Report in test set\n",
      "              precision    recall  f1-score   support\n",
      "\n",
      "           0       0.97      0.96      0.96      3802\n",
      "           1       0.33      0.37      0.35       209\n",
      "\n",
      "    accuracy                           0.93      4011\n",
      "   macro avg       0.65      0.66      0.66      4011\n",
      "weighted avg       0.93      0.93      0.93      4011\n",
      "\n",
      "[[3646  156]\n",
      " [ 132   77]]\n",
      "          features  importance\n",
      "9         duration   34.957583\n",
      "0              age   13.242328\n",
      "17       euribor3m   11.830228\n",
      "1              job    7.696334\n",
      "10        campaign    5.511565\n",
      "18     nr.employed    5.232199\n",
      "8      day_of_week    4.284086\n",
      "3        education    3.679324\n",
      "2          marital    3.187905\n",
      "4          housing    3.036857\n",
      "7            month    1.879641\n",
      "12        previous    1.445992\n",
      "5             loan    1.379992\n",
      "15  cons.price.idx    1.157327\n",
      "6          contact    0.956392\n",
      "16   cons.conf.idx    0.403638\n",
      "14    emp.var.rate    0.118611\n",
      "11           pdays    0.000000\n",
      "13        poutcome    0.000000\n",
      "------------------------------------------------------\n",
      "Random Forest Report in test set\n",
      "              precision    recall  f1-score   support\n",
      "\n",
      "           0       0.96      0.99      0.97      3802\n",
      "           1       0.58      0.20      0.30       209\n",
      "\n",
      "    accuracy                           0.95      4011\n",
      "   macro avg       0.77      0.60      0.64      4011\n",
      "weighted avg       0.94      0.95      0.94      4011\n",
      "\n",
      "[[3771   31]\n",
      " [ 167   42]]\n",
      "          features  importance\n",
      "9         duration   33.712398\n",
      "0              age   13.264413\n",
      "17       euribor3m   10.871715\n",
      "1              job    6.673747\n",
      "8      day_of_week    5.915114\n",
      "10        campaign    5.478372\n",
      "3        education    4.751400\n",
      "2          marital    3.655378\n",
      "4          housing    2.702302\n",
      "14    emp.var.rate    2.227439\n",
      "18     nr.employed    1.959748\n",
      "5             loan    1.853165\n",
      "15  cons.price.idx    1.708208\n",
      "16   cons.conf.idx    1.393187\n",
      "12        previous    1.371426\n",
      "6          contact    1.242679\n",
      "7            month    1.219310\n",
      "11           pdays    0.000000\n",
      "13        poutcome    0.000000\n",
      "------------------------------------------------------\n",
      "Gradient Boosting in test set\n",
      "              precision    recall  f1-score   support\n",
      "\n",
      "           0       0.96      0.99      0.98      3802\n",
      "           1       0.62      0.22      0.33       209\n",
      "\n",
      "    accuracy                           0.95      4011\n",
      "   macro avg       0.79      0.61      0.65      4011\n",
      "weighted avg       0.94      0.95      0.94      4011\n",
      "\n",
      "[[3773   29]\n",
      " [ 162   47]]\n",
      "          features  importance\n",
      "9         duration   50.578851\n",
      "17       euribor3m   21.968948\n",
      "18     nr.employed    9.523568\n",
      "16   cons.conf.idx    4.938343\n",
      "0              age    3.582749\n",
      "7            month    2.687143\n",
      "14    emp.var.rate    1.870782\n",
      "15  cons.price.idx    1.224927\n",
      "8      day_of_week    1.025569\n",
      "10        campaign    0.728075\n",
      "1              job    0.595824\n",
      "3        education    0.577781\n",
      "12        previous    0.333143\n",
      "6          contact    0.156547\n",
      "4          housing    0.109885\n",
      "5             loan    0.075108\n",
      "2          marital    0.022757\n",
      "11           pdays    0.000000\n",
      "13        poutcome    0.000000\n",
      "------------------------------------------------------\n",
      "K Neighbors in test set\n",
      "              precision    recall  f1-score   support\n",
      "\n",
      "           0       0.96      0.98      0.97      3802\n",
      "           1       0.38      0.17      0.24       209\n",
      "\n",
      "    accuracy                           0.94      4011\n",
      "   macro avg       0.67      0.58      0.60      4011\n",
      "weighted avg       0.93      0.94      0.93      4011\n",
      "\n",
      "[[3743   59]\n",
      " [ 173   36]]\n",
      "------------------------------------------------------\n"
     ]
    }
   ],
   "source": [
    "ML_training(X,y)"
   ]
  },
  {
   "cell_type": "code",
   "execution_count": 268,
   "id": "bbec1e5e",
   "metadata": {},
   "outputs": [],
   "source": [
    "#As I already seen in correlation plot, duration feature is highly correlated and has to be removed from modelling."
   ]
  },
  {
   "cell_type": "code",
   "execution_count": 269,
   "id": "ba1657f7",
   "metadata": {},
   "outputs": [],
   "source": [
    "#As you can see models can not able to predict \"yes\" value in target feature.\n",
    "# it could be about imbalanced dataset or about some features like duration"
   ]
  },
  {
   "cell_type": "code",
   "execution_count": 270,
   "id": "1c4fd68c",
   "metadata": {},
   "outputs": [
    {
     "name": "stdout",
     "output_type": "stream",
     "text": [
      "Unbalanced Data shape 20053\n",
      "Balanced data shape: 1886\n"
     ]
    }
   ],
   "source": [
    "#Balanced Dataset without Feature Selection\n",
    "print(\"Unbalanced Data shape\", len(df))\n",
    "datano = df[df.y == 0]\n",
    "datayes = df[df.y == 1]\n",
    "balanced_df = pd.concat([datano.sample(len(datayes), random_state=5), datayes])\n",
    "print(\"Balanced data shape:\", len(balanced_df))"
   ]
  },
  {
   "cell_type": "code",
   "execution_count": 271,
   "id": "548967f8",
   "metadata": {},
   "outputs": [
    {
     "data": {
      "text/plain": [
       "0    943\n",
       "1    943\n",
       "Name: y, dtype: int64"
      ]
     },
     "execution_count": 271,
     "metadata": {},
     "output_type": "execute_result"
    }
   ],
   "source": [
    "balanced_df.y.value_counts()"
   ]
  },
  {
   "cell_type": "code",
   "execution_count": 272,
   "id": "a392027b",
   "metadata": {},
   "outputs": [],
   "source": [
    "balanced_df.reset_index(inplace=True,drop=True)"
   ]
  },
  {
   "cell_type": "code",
   "execution_count": 273,
   "id": "14d0adbb",
   "metadata": {},
   "outputs": [
    {
     "name": "stdout",
     "output_type": "stream",
     "text": [
      "X Columns:  ['age', 'job', 'marital', 'education', 'housing', 'loan', 'contact', 'month', 'day_of_week', 'duration', 'campaign', 'pdays', 'previous', 'poutcome', 'emp.var.rate', 'cons.price.idx', 'cons.conf.idx', 'euribor3m', 'nr.employed']\n"
     ]
    }
   ],
   "source": [
    "X_balanced = balanced_df.iloc[:,balanced_df.columns != 'y']\n",
    "y_balanced = balanced_df.y\n",
    "print(\"X Columns: \",list(X_balanced.columns))"
   ]
  },
  {
   "cell_type": "code",
   "execution_count": 274,
   "id": "0e81cc66",
   "metadata": {},
   "outputs": [
    {
     "name": "stderr",
     "output_type": "stream",
     "text": [
      "C:\\Users\\LENOVO\\anaconda3\\lib\\site-packages\\sklearn\\linear_model\\_logistic.py:444: ConvergenceWarning: lbfgs failed to converge (status=1):\n",
      "STOP: TOTAL NO. of ITERATIONS REACHED LIMIT.\n",
      "\n",
      "Increase the number of iterations (max_iter) or scale the data as shown in:\n",
      "    https://scikit-learn.org/stable/modules/preprocessing.html\n",
      "Please also refer to the documentation for alternative solver options:\n",
      "    https://scikit-learn.org/stable/modules/linear_model.html#logistic-regression\n",
      "  n_iter_i = _check_optimize_result(\n"
     ]
    },
    {
     "name": "stdout",
     "output_type": "stream",
     "text": [
      "Logistic Regression Report in test set\n",
      "              precision    recall  f1-score   support\n",
      "\n",
      "           0       0.85      0.85      0.85       191\n",
      "           1       0.85      0.85      0.85       187\n",
      "\n",
      "    accuracy                           0.85       378\n",
      "   macro avg       0.85      0.85      0.85       378\n",
      "weighted avg       0.85      0.85      0.85       378\n",
      "\n",
      "[[162  29]\n",
      " [ 28 159]]\n",
      "          features       Coef\n",
      "3        education  27.099774\n",
      "15  cons.price.idx  16.187882\n",
      "16   cons.conf.idx  10.876769\n",
      "2          marital   4.550096\n",
      "8      day_of_week   3.279208\n",
      "1              job   1.700421\n",
      "9         duration   1.042683\n",
      "13        poutcome   0.000000\n",
      "11           pdays   0.000000\n",
      "18     nr.employed  -0.240409\n",
      "5             loan  -0.872362\n",
      "10        campaign  -0.908011\n",
      "0              age  -1.130644\n",
      "4          housing  -1.635735\n",
      "12        previous  -3.427856\n",
      "6          contact  -6.793910\n",
      "7            month -22.036057\n",
      "17       euribor3m -38.628633\n",
      "14    emp.var.rate -51.129262\n",
      "------------------------------------------------------\n",
      "Decision Tree Report in test set\n",
      "              precision    recall  f1-score   support\n",
      "\n",
      "           0       0.80      0.83      0.81       191\n",
      "           1       0.82      0.79      0.80       187\n",
      "\n",
      "    accuracy                           0.81       378\n",
      "   macro avg       0.81      0.81      0.81       378\n",
      "weighted avg       0.81      0.81      0.81       378\n",
      "\n",
      "[[158  33]\n",
      " [ 40 147]]\n",
      "          features  importance\n",
      "9         duration   45.899019\n",
      "18     nr.employed   14.480367\n",
      "17       euribor3m   10.602532\n",
      "7            month    5.599892\n",
      "0              age    4.563102\n",
      "8      day_of_week    3.510630\n",
      "15  cons.price.idx    3.468431\n",
      "3        education    2.567434\n",
      "10        campaign    2.335574\n",
      "2          marital    2.045454\n",
      "1              job    1.650904\n",
      "6          contact    1.044464\n",
      "12        previous    0.685782\n",
      "4          housing    0.543770\n",
      "16   cons.conf.idx    0.530508\n",
      "5             loan    0.339508\n",
      "14    emp.var.rate    0.132627\n",
      "11           pdays    0.000000\n",
      "13        poutcome    0.000000\n",
      "------------------------------------------------------\n",
      "Random Forest Report in test set\n",
      "              precision    recall  f1-score   support\n",
      "\n",
      "           0       0.90      0.85      0.87       191\n",
      "           1       0.86      0.90      0.88       187\n",
      "\n",
      "    accuracy                           0.88       378\n",
      "   macro avg       0.88      0.88      0.88       378\n",
      "weighted avg       0.88      0.88      0.88       378\n",
      "\n",
      "[[163  28]\n",
      " [ 19 168]]\n",
      "          features  importance\n",
      "9         duration   42.686527\n",
      "17       euribor3m   10.549321\n",
      "0              age    6.982203\n",
      "14    emp.var.rate    4.903713\n",
      "15  cons.price.idx    4.408390\n",
      "8      day_of_week    3.924528\n",
      "18     nr.employed    3.915786\n",
      "1              job    3.877384\n",
      "3        education    3.525773\n",
      "10        campaign    3.455627\n",
      "2          marital    2.222489\n",
      "16   cons.conf.idx    2.144172\n",
      "6          contact    1.816939\n",
      "7            month    1.707147\n",
      "4          housing    1.597851\n",
      "12        previous    1.333595\n",
      "5             loan    0.948554\n",
      "11           pdays    0.000000\n",
      "13        poutcome    0.000000\n",
      "------------------------------------------------------\n",
      "Gradient Boosting in test set\n",
      "              precision    recall  f1-score   support\n",
      "\n",
      "           0       0.88      0.86      0.87       191\n",
      "           1       0.86      0.88      0.87       187\n",
      "\n",
      "    accuracy                           0.87       378\n",
      "   macro avg       0.87      0.87      0.87       378\n",
      "weighted avg       0.87      0.87      0.87       378\n",
      "\n",
      "[[164  27]\n",
      " [ 23 164]]\n",
      "          features  importance\n",
      "9         duration   54.063924\n",
      "17       euribor3m   15.081963\n",
      "15  cons.price.idx   11.625590\n",
      "14    emp.var.rate    5.411135\n",
      "7            month    4.158921\n",
      "16   cons.conf.idx    1.728983\n",
      "3        education    1.632796\n",
      "0              age    1.303267\n",
      "8      day_of_week    1.202590\n",
      "18     nr.employed    1.042586\n",
      "10        campaign    0.972916\n",
      "6          contact    0.548900\n",
      "12        previous    0.523546\n",
      "1              job    0.446624\n",
      "2          marital    0.199420\n",
      "4          housing    0.056839\n",
      "11           pdays    0.000000\n",
      "13        poutcome    0.000000\n",
      "5             loan    0.000000\n",
      "------------------------------------------------------\n",
      "K Neighbors in test set\n",
      "              precision    recall  f1-score   support\n",
      "\n",
      "           0       0.84      0.82      0.83       191\n",
      "           1       0.82      0.84      0.83       187\n",
      "\n",
      "    accuracy                           0.83       378\n",
      "   macro avg       0.83      0.83      0.83       378\n",
      "weighted avg       0.83      0.83      0.83       378\n",
      "\n",
      "[[157  34]\n",
      " [ 29 158]]\n",
      "------------------------------------------------------\n"
     ]
    }
   ],
   "source": [
    "ML_training(X_balanced,y_balanced)"
   ]
  },
  {
   "cell_type": "code",
   "execution_count": 275,
   "id": "0351ff17",
   "metadata": {},
   "outputs": [],
   "source": [
    "# As you can see in the balanced dataset results, our precision and recall results quite similar. \n",
    "# so our model can also predict well to \"yes\" values in target feature.\n",
    "#Still duration feature is highly dominant in every model."
   ]
  },
  {
   "cell_type": "code",
   "execution_count": 276,
   "id": "6c8cf8b9",
   "metadata": {},
   "outputs": [],
   "source": [
    "# Balanced Data with Some Feature Scaling¶"
   ]
  },
  {
   "cell_type": "code",
   "execution_count": 277,
   "id": "74c45f34",
   "metadata": {},
   "outputs": [],
   "source": [
    "# change the range of Var Rate\n",
    "balanced_df['emp.var.rate'] = balanced_df['emp.var.rate'].apply(lambda x: x*-0.0001 if x > 0 else x*1)\n",
    "balanced_df['emp.var.rate'] = balanced_df['emp.var.rate'] * -1\n",
    "balanced_df['emp.var.rate'] = balanced_df['emp.var.rate'].apply(lambda x: -np.log(x) if x < 1 else np.log(x)).astype('uint8')\n",
    "\n",
    "# Multiply consumer index \n",
    "balanced_df['cons.price.idx'] = (balanced_df['cons.price.idx'] * 10).astype('uint8')\n",
    "\n",
    "# change the sign (we want all be positive values)\n",
    "balanced_df['cons.conf.idx'] = balanced_df['cons.conf.idx'] * -1\n",
    "\n",
    "# re-scale variables\n",
    "balanced_df['nr.employed'] = np.log2(balanced_df['nr.employed']).astype('uint8')\n",
    "balanced_df['cons.price.idx'] = np.log2(balanced_df['cons.price.idx']).astype('uint8')\n",
    "balanced_df['cons.conf.idx'] = np.log2(balanced_df['cons.conf.idx']).astype('uint8')"
   ]
  },
  {
   "cell_type": "code",
   "execution_count": 278,
   "id": "aa818d1c",
   "metadata": {},
   "outputs": [
    {
     "name": "stdout",
     "output_type": "stream",
     "text": [
      "X Columns:  ['age', 'job', 'marital', 'education', 'housing', 'loan', 'contact', 'month', 'day_of_week', 'duration', 'campaign', 'pdays', 'previous', 'poutcome', 'emp.var.rate', 'cons.price.idx', 'cons.conf.idx', 'euribor3m', 'nr.employed']\n"
     ]
    }
   ],
   "source": [
    "X_balanced_scaled = balanced_df.iloc[:,balanced_df.columns != 'y']\n",
    "y_balanced_scaled = balanced_df.y\n",
    "print(\"X Columns: \",list(X_balanced_scaled.columns))"
   ]
  },
  {
   "cell_type": "code",
   "execution_count": 279,
   "id": "1e01d6e6",
   "metadata": {},
   "outputs": [
    {
     "name": "stderr",
     "output_type": "stream",
     "text": [
      "C:\\Users\\LENOVO\\anaconda3\\lib\\site-packages\\sklearn\\linear_model\\_logistic.py:444: ConvergenceWarning: lbfgs failed to converge (status=1):\n",
      "STOP: TOTAL NO. of ITERATIONS REACHED LIMIT.\n",
      "\n",
      "Increase the number of iterations (max_iter) or scale the data as shown in:\n",
      "    https://scikit-learn.org/stable/modules/preprocessing.html\n",
      "Please also refer to the documentation for alternative solver options:\n",
      "    https://scikit-learn.org/stable/modules/linear_model.html#logistic-regression\n",
      "  n_iter_i = _check_optimize_result(\n"
     ]
    },
    {
     "name": "stdout",
     "output_type": "stream",
     "text": [
      "Logistic Regression Report in test set\n",
      "              precision    recall  f1-score   support\n",
      "\n",
      "           0       0.82      0.83      0.83       191\n",
      "           1       0.83      0.82      0.82       187\n",
      "\n",
      "    accuracy                           0.83       378\n",
      "   macro avg       0.83      0.83      0.83       378\n",
      "weighted avg       0.83      0.83      0.83       378\n",
      "\n",
      "[[159  32]\n",
      " [ 34 153]]\n",
      "          features       Coef\n",
      "3        education  22.202336\n",
      "2          marital  13.655765\n",
      "8      day_of_week   6.263937\n",
      "10        campaign   3.624474\n",
      "1              job   2.037071\n",
      "9         duration   1.014510\n",
      "13        poutcome   0.000000\n",
      "11           pdays   0.000000\n",
      "0              age  -0.639470\n",
      "16   cons.conf.idx  -2.346046\n",
      "15  cons.price.idx  -3.284465\n",
      "6          contact  -4.133611\n",
      "5             loan  -4.860316\n",
      "18     nr.employed  -5.630511\n",
      "14    emp.var.rate -11.335425\n",
      "4          housing -12.380770\n",
      "7            month -18.534514\n",
      "12        previous -28.193051\n",
      "17       euribor3m -54.605661\n",
      "------------------------------------------------------\n",
      "Decision Tree Report in test set\n",
      "              precision    recall  f1-score   support\n",
      "\n",
      "           0       0.79      0.86      0.82       191\n",
      "           1       0.84      0.77      0.80       187\n",
      "\n",
      "    accuracy                           0.81       378\n",
      "   macro avg       0.82      0.81      0.81       378\n",
      "weighted avg       0.82      0.81      0.81       378\n",
      "\n",
      "[[164  27]\n",
      " [ 43 144]]\n",
      "          features  importance\n",
      "9         duration   44.926101\n",
      "17       euribor3m   24.694329\n",
      "7            month    6.095409\n",
      "8      day_of_week    3.978599\n",
      "3        education    3.764405\n",
      "0              age    3.388645\n",
      "14    emp.var.rate    2.963551\n",
      "1              job    2.787112\n",
      "10        campaign    2.782692\n",
      "2          marital    2.059584\n",
      "6          contact    1.024432\n",
      "12        previous    0.962088\n",
      "5             loan    0.294535\n",
      "4          housing    0.278517\n",
      "11           pdays    0.000000\n",
      "13        poutcome    0.000000\n",
      "15  cons.price.idx    0.000000\n",
      "16   cons.conf.idx    0.000000\n",
      "18     nr.employed    0.000000\n",
      "------------------------------------------------------\n",
      "Random Forest Report in test set\n",
      "              precision    recall  f1-score   support\n",
      "\n",
      "           0       0.90      0.85      0.87       191\n",
      "           1       0.86      0.90      0.88       187\n",
      "\n",
      "    accuracy                           0.88       378\n",
      "   macro avg       0.88      0.88      0.88       378\n",
      "weighted avg       0.88      0.88      0.88       378\n",
      "\n",
      "[[163  28]\n",
      " [ 19 168]]\n",
      "          features  importance\n",
      "9         duration   41.770200\n",
      "17       euribor3m   14.243353\n",
      "14    emp.var.rate    8.045080\n",
      "0              age    7.796916\n",
      "7            month    4.252549\n",
      "8      day_of_week    4.135516\n",
      "1              job    3.769034\n",
      "10        campaign    3.727075\n",
      "3        education    3.586554\n",
      "6          contact    2.440125\n",
      "2          marital    2.313647\n",
      "4          housing    1.667359\n",
      "12        previous    1.242719\n",
      "5             loan    1.009874\n",
      "11           pdays    0.000000\n",
      "13        poutcome    0.000000\n",
      "15  cons.price.idx    0.000000\n",
      "16   cons.conf.idx    0.000000\n",
      "18     nr.employed    0.000000\n",
      "------------------------------------------------------\n",
      "Gradient Boosting in test set\n",
      "              precision    recall  f1-score   support\n",
      "\n",
      "           0       0.90      0.85      0.87       191\n",
      "           1       0.86      0.90      0.88       187\n",
      "\n",
      "    accuracy                           0.88       378\n",
      "   macro avg       0.88      0.88      0.88       378\n",
      "weighted avg       0.88      0.88      0.88       378\n",
      "\n",
      "[[163  28]\n",
      " [ 19 168]]\n",
      "          features  importance\n",
      "9         duration   53.758876\n",
      "17       euribor3m   19.599672\n",
      "14    emp.var.rate   12.615899\n",
      "7            month    7.613741\n",
      "3        education    1.753566\n",
      "0              age    1.209243\n",
      "10        campaign    0.890811\n",
      "8      day_of_week    0.838922\n",
      "6          contact    0.630500\n",
      "1              job    0.481318\n",
      "12        previous    0.397572\n",
      "2          marital    0.185635\n",
      "4          housing    0.024244\n",
      "5             loan    0.000000\n",
      "11           pdays    0.000000\n",
      "13        poutcome    0.000000\n",
      "15  cons.price.idx    0.000000\n",
      "16   cons.conf.idx    0.000000\n",
      "18     nr.employed    0.000000\n",
      "------------------------------------------------------\n",
      "K Neighbors in test set\n",
      "              precision    recall  f1-score   support\n",
      "\n",
      "           0       0.82      0.76      0.79       191\n",
      "           1       0.77      0.82      0.80       187\n",
      "\n",
      "    accuracy                           0.79       378\n",
      "   macro avg       0.79      0.79      0.79       378\n",
      "weighted avg       0.79      0.79      0.79       378\n",
      "\n",
      "[[146  45]\n",
      " [ 33 154]]\n",
      "------------------------------------------------------\n"
     ]
    }
   ],
   "source": [
    "ML_training(X_balanced_scaled,y_balanced_scaled)"
   ]
  },
  {
   "cell_type": "code",
   "execution_count": 280,
   "id": "22bee8e7",
   "metadata": {},
   "outputs": [],
   "source": [
    "#Scaled dataset does not improved the score."
   ]
  },
  {
   "cell_type": "code",
   "execution_count": 281,
   "id": "21f40388",
   "metadata": {},
   "outputs": [],
   "source": [
    "#Random Forest Classifer perform best so for. Let's build a model for Random Forest with some hyperparameters."
   ]
  },
  {
   "cell_type": "code",
   "execution_count": 282,
   "id": "e8078d37",
   "metadata": {},
   "outputs": [],
   "source": [
    "X_train, X_test, y_train, y_test = train_test_split(X_balanced,y_balanced, test_size = 0.20, random_state = 0)"
   ]
  },
  {
   "cell_type": "code",
   "execution_count": 283,
   "id": "2ffafd8f",
   "metadata": {},
   "outputs": [
    {
     "name": "stdout",
     "output_type": "stream",
     "text": [
      "{'n_estimators': [20, 65, 110, 155, 200], 'max_features': ['auto', 'sqrt'], 'max_depth': [1, 23, 45], 'min_samples_split': [5, 10]}\n"
     ]
    }
   ],
   "source": [
    "from sklearn.model_selection import RandomizedSearchCV\n",
    "from pprint import pprint\n",
    "\n",
    "# Number of trees in random forest\n",
    "n_estimators = [int(x) for x in np.linspace(start = 20, stop = 200, num = 5)]\n",
    "# Number of features to consider at every split\n",
    "max_features = ['auto', 'sqrt']\n",
    "# Maximum number of levels in tree\n",
    "max_depth = [int(x) for x in np.linspace(1, 45, num = 3)]\n",
    "# Minimum number of samples required to split a node\n",
    "min_samples_split = [5, 10]\n",
    "\n",
    "# Create the random grid\n",
    "random_grid = {'n_estimators': n_estimators,\n",
    "               'max_features': max_features,\n",
    "               'max_depth': max_depth,\n",
    "               'min_samples_split': min_samples_split}\n",
    "\n",
    "print(random_grid)"
   ]
  },
  {
   "cell_type": "code",
   "execution_count": 284,
   "id": "0a3786ef",
   "metadata": {},
   "outputs": [],
   "source": [
    "# Use the random grid to search for best hyperparameters\n",
    "rf = RandomForestClassifier(random_state=42)\n",
    "from sklearn.model_selection import GridSearchCV\n",
    "rf_Grid = GridSearchCV(estimator = rf, param_grid = random_grid, cv = 3, verbose=2, n_jobs = 4)"
   ]
  },
  {
   "cell_type": "code",
   "execution_count": 285,
   "id": "cb45593b",
   "metadata": {},
   "outputs": [
    {
     "name": "stdout",
     "output_type": "stream",
     "text": [
      "Fitting 3 folds for each of 60 candidates, totalling 180 fits\n"
     ]
    },
    {
     "name": "stderr",
     "output_type": "stream",
     "text": [
      "C:\\Users\\LENOVO\\anaconda3\\lib\\site-packages\\sklearn\\ensemble\\_forest.py:427: FutureWarning: `max_features='auto'` has been deprecated in 1.1 and will be removed in 1.3. To keep the past behaviour, explicitly set `max_features='sqrt'` or remove this parameter as it is also the default value for RandomForestClassifiers and ExtraTreesClassifiers.\n",
      "  warn(\n"
     ]
    },
    {
     "data": {
      "text/html": [
       "<style>#sk-container-id-4 {color: black;background-color: white;}#sk-container-id-4 pre{padding: 0;}#sk-container-id-4 div.sk-toggleable {background-color: white;}#sk-container-id-4 label.sk-toggleable__label {cursor: pointer;display: block;width: 100%;margin-bottom: 0;padding: 0.3em;box-sizing: border-box;text-align: center;}#sk-container-id-4 label.sk-toggleable__label-arrow:before {content: \"▸\";float: left;margin-right: 0.25em;color: #696969;}#sk-container-id-4 label.sk-toggleable__label-arrow:hover:before {color: black;}#sk-container-id-4 div.sk-estimator:hover label.sk-toggleable__label-arrow:before {color: black;}#sk-container-id-4 div.sk-toggleable__content {max-height: 0;max-width: 0;overflow: hidden;text-align: left;background-color: #f0f8ff;}#sk-container-id-4 div.sk-toggleable__content pre {margin: 0.2em;color: black;border-radius: 0.25em;background-color: #f0f8ff;}#sk-container-id-4 input.sk-toggleable__control:checked~div.sk-toggleable__content {max-height: 200px;max-width: 100%;overflow: auto;}#sk-container-id-4 input.sk-toggleable__control:checked~label.sk-toggleable__label-arrow:before {content: \"▾\";}#sk-container-id-4 div.sk-estimator input.sk-toggleable__control:checked~label.sk-toggleable__label {background-color: #d4ebff;}#sk-container-id-4 div.sk-label input.sk-toggleable__control:checked~label.sk-toggleable__label {background-color: #d4ebff;}#sk-container-id-4 input.sk-hidden--visually {border: 0;clip: rect(1px 1px 1px 1px);clip: rect(1px, 1px, 1px, 1px);height: 1px;margin: -1px;overflow: hidden;padding: 0;position: absolute;width: 1px;}#sk-container-id-4 div.sk-estimator {font-family: monospace;background-color: #f0f8ff;border: 1px dotted black;border-radius: 0.25em;box-sizing: border-box;margin-bottom: 0.5em;}#sk-container-id-4 div.sk-estimator:hover {background-color: #d4ebff;}#sk-container-id-4 div.sk-parallel-item::after {content: \"\";width: 100%;border-bottom: 1px solid gray;flex-grow: 1;}#sk-container-id-4 div.sk-label:hover label.sk-toggleable__label {background-color: #d4ebff;}#sk-container-id-4 div.sk-serial::before {content: \"\";position: absolute;border-left: 1px solid gray;box-sizing: border-box;top: 0;bottom: 0;left: 50%;z-index: 0;}#sk-container-id-4 div.sk-serial {display: flex;flex-direction: column;align-items: center;background-color: white;padding-right: 0.2em;padding-left: 0.2em;position: relative;}#sk-container-id-4 div.sk-item {position: relative;z-index: 1;}#sk-container-id-4 div.sk-parallel {display: flex;align-items: stretch;justify-content: center;background-color: white;position: relative;}#sk-container-id-4 div.sk-item::before, #sk-container-id-4 div.sk-parallel-item::before {content: \"\";position: absolute;border-left: 1px solid gray;box-sizing: border-box;top: 0;bottom: 0;left: 50%;z-index: -1;}#sk-container-id-4 div.sk-parallel-item {display: flex;flex-direction: column;z-index: 1;position: relative;background-color: white;}#sk-container-id-4 div.sk-parallel-item:first-child::after {align-self: flex-end;width: 50%;}#sk-container-id-4 div.sk-parallel-item:last-child::after {align-self: flex-start;width: 50%;}#sk-container-id-4 div.sk-parallel-item:only-child::after {width: 0;}#sk-container-id-4 div.sk-dashed-wrapped {border: 1px dashed gray;margin: 0 0.4em 0.5em 0.4em;box-sizing: border-box;padding-bottom: 0.4em;background-color: white;}#sk-container-id-4 div.sk-label label {font-family: monospace;font-weight: bold;display: inline-block;line-height: 1.2em;}#sk-container-id-4 div.sk-label-container {text-align: center;}#sk-container-id-4 div.sk-container {/* jupyter's `normalize.less` sets `[hidden] { display: none; }` but bootstrap.min.css set `[hidden] { display: none !important; }` so we also need the `!important` here to be able to override the default hidden behavior on the sphinx rendered scikit-learn.org. See: https://github.com/scikit-learn/scikit-learn/issues/21755 */display: inline-block !important;position: relative;}#sk-container-id-4 div.sk-text-repr-fallback {display: none;}</style><div id=\"sk-container-id-4\" class=\"sk-top-container\"><div class=\"sk-text-repr-fallback\"><pre>GridSearchCV(cv=3, estimator=RandomForestClassifier(random_state=42), n_jobs=4,\n",
       "             param_grid={&#x27;max_depth&#x27;: [1, 23, 45],\n",
       "                         &#x27;max_features&#x27;: [&#x27;auto&#x27;, &#x27;sqrt&#x27;],\n",
       "                         &#x27;min_samples_split&#x27;: [5, 10],\n",
       "                         &#x27;n_estimators&#x27;: [20, 65, 110, 155, 200]},\n",
       "             verbose=2)</pre><b>In a Jupyter environment, please rerun this cell to show the HTML representation or trust the notebook. <br />On GitHub, the HTML representation is unable to render, please try loading this page with nbviewer.org.</b></div><div class=\"sk-container\" hidden><div class=\"sk-item sk-dashed-wrapped\"><div class=\"sk-label-container\"><div class=\"sk-label sk-toggleable\"><input class=\"sk-toggleable__control sk-hidden--visually\" id=\"sk-estimator-id-10\" type=\"checkbox\" ><label for=\"sk-estimator-id-10\" class=\"sk-toggleable__label sk-toggleable__label-arrow\">GridSearchCV</label><div class=\"sk-toggleable__content\"><pre>GridSearchCV(cv=3, estimator=RandomForestClassifier(random_state=42), n_jobs=4,\n",
       "             param_grid={&#x27;max_depth&#x27;: [1, 23, 45],\n",
       "                         &#x27;max_features&#x27;: [&#x27;auto&#x27;, &#x27;sqrt&#x27;],\n",
       "                         &#x27;min_samples_split&#x27;: [5, 10],\n",
       "                         &#x27;n_estimators&#x27;: [20, 65, 110, 155, 200]},\n",
       "             verbose=2)</pre></div></div></div><div class=\"sk-parallel\"><div class=\"sk-parallel-item\"><div class=\"sk-item\"><div class=\"sk-label-container\"><div class=\"sk-label sk-toggleable\"><input class=\"sk-toggleable__control sk-hidden--visually\" id=\"sk-estimator-id-11\" type=\"checkbox\" ><label for=\"sk-estimator-id-11\" class=\"sk-toggleable__label sk-toggleable__label-arrow\">estimator: RandomForestClassifier</label><div class=\"sk-toggleable__content\"><pre>RandomForestClassifier(random_state=42)</pre></div></div></div><div class=\"sk-serial\"><div class=\"sk-item\"><div class=\"sk-estimator sk-toggleable\"><input class=\"sk-toggleable__control sk-hidden--visually\" id=\"sk-estimator-id-12\" type=\"checkbox\" ><label for=\"sk-estimator-id-12\" class=\"sk-toggleable__label sk-toggleable__label-arrow\">RandomForestClassifier</label><div class=\"sk-toggleable__content\"><pre>RandomForestClassifier(random_state=42)</pre></div></div></div></div></div></div></div></div></div></div>"
      ],
      "text/plain": [
       "GridSearchCV(cv=3, estimator=RandomForestClassifier(random_state=42), n_jobs=4,\n",
       "             param_grid={'max_depth': [1, 23, 45],\n",
       "                         'max_features': ['auto', 'sqrt'],\n",
       "                         'min_samples_split': [5, 10],\n",
       "                         'n_estimators': [20, 65, 110, 155, 200]},\n",
       "             verbose=2)"
      ]
     },
     "execution_count": 285,
     "metadata": {},
     "output_type": "execute_result"
    }
   ],
   "source": [
    "rf_Grid.fit(X_train, y_train)"
   ]
  },
  {
   "cell_type": "code",
   "execution_count": 286,
   "id": "c9eb9993",
   "metadata": {},
   "outputs": [
    {
     "data": {
      "text/plain": [
       "{'max_depth': 23,\n",
       " 'max_features': 'auto',\n",
       " 'min_samples_split': 5,\n",
       " 'n_estimators': 155}"
      ]
     },
     "execution_count": 286,
     "metadata": {},
     "output_type": "execute_result"
    }
   ],
   "source": [
    "rf_Grid.best_params_"
   ]
  },
  {
   "cell_type": "code",
   "execution_count": 287,
   "id": "13812199",
   "metadata": {},
   "outputs": [
    {
     "name": "stderr",
     "output_type": "stream",
     "text": [
      "C:\\Users\\LENOVO\\anaconda3\\lib\\site-packages\\sklearn\\ensemble\\_forest.py:427: FutureWarning: `max_features='auto'` has been deprecated in 1.1 and will be removed in 1.3. To keep the past behaviour, explicitly set `max_features='sqrt'` or remove this parameter as it is also the default value for RandomForestClassifiers and ExtraTreesClassifiers.\n",
      "  warn(\n"
     ]
    },
    {
     "name": "stdout",
     "output_type": "stream",
     "text": [
      "Accuracy of Random Forest classifier on test set: 0.88\n"
     ]
    }
   ],
   "source": [
    "rf = RandomForestClassifier(n_estimators=155,max_depth=45, max_features=\"auto\", min_samples_split=5)\n",
    "rf.fit(X_train, y_train)\n",
    "y_pred = rf.predict(X_test)\n",
    "print('Accuracy of Random Forest classifier on test set: {:.2f}'.format(rf.score(X_test, y_test)))"
   ]
  },
  {
   "cell_type": "code",
   "execution_count": 288,
   "id": "b9241082",
   "metadata": {},
   "outputs": [
    {
     "name": "stdout",
     "output_type": "stream",
     "text": [
      "Confusion Matrix:\n",
      " [[162  29]\n",
      " [ 18 169]]\n",
      "Classification Report:\n",
      "               precision    recall  f1-score   support\n",
      "\n",
      "           0       0.90      0.85      0.87       191\n",
      "           1       0.85      0.90      0.88       187\n",
      "\n",
      "    accuracy                           0.88       378\n",
      "   macro avg       0.88      0.88      0.88       378\n",
      "weighted avg       0.88      0.88      0.88       378\n",
      "\n"
     ]
    }
   ],
   "source": [
    "from sklearn.metrics import confusion_matrix\n",
    "confusion_matrix = confusion_matrix(y_test, y_pred)\n",
    "print(\"Confusion Matrix:\\n\",confusion_matrix)\n",
    "print(\"Classification Report:\\n\",classification_report(y_test, y_pred))"
   ]
  },
  {
   "cell_type": "code",
   "execution_count": 289,
   "id": "9942ab30",
   "metadata": {},
   "outputs": [
    {
     "data": {
      "image/png": "[encoded data removed]",
      "text/plain": [
       "<Figure size 432x288 with 1 Axes>"
      ]
     },
     "metadata": {},
     "output_type": "display_data"
    }
   ],
   "source": [
    "from sklearn.metrics import roc_auc_score\n",
    "from sklearn.metrics import roc_curve\n",
    "logit_roc_auc = roc_auc_score(y_test, rf.predict(X_test))\n",
    "fpr, tpr, thresholds = roc_curve(y_test, rf.predict_proba(X_test)[:,1])\n",
    "plt.figure()\n",
    "plt.plot(fpr, tpr, label='Random Forest Classfier (area = %0.2f)' % logit_roc_auc)\n",
    "plt.plot([0, 1], [0, 1],'r--')\n",
    "plt.xlim([-0.01, 1.0])\n",
    "plt.ylim([0.0, 1.05])\n",
    "plt.xlabel('False Positive Rate')\n",
    "plt.ylabel('True Positive Rate')\n",
    "plt.title('Receiver operating characteristic')\n",
    "plt.legend(loc=\"lower right\")\n",
    "plt.show()"
   ]
  },
  {
   "cell_type": "code",
   "execution_count": 290,
   "id": "a77233cd",
   "metadata": {},
   "outputs": [],
   "source": [
    "# Feature importance with LOFO (Leave One Feature Out)¶"
   ]
  },
  {
   "cell_type": "code",
   "execution_count": 291,
   "id": "7b944f6c",
   "metadata": {},
   "outputs": [],
   "source": [
    "# LOFO (Leave One Feature Out) Importance calculates the importances of a set of features based on a metric of choice.\n",
    "# for a model of choice, by iteratively removing each feature from the set, and evaluating the performance of the model\n",
    "# with a validation scheme of choice, based on the chosen metric."
   ]
  },
  {
   "cell_type": "code",
   "execution_count": 292,
   "id": "73602f4e",
   "metadata": {},
   "outputs": [
    {
     "name": "stdout",
     "output_type": "stream",
     "text": [
      "Requirement already satisfied: lofo-importance in c:\\users\\lenovo\\anaconda3\\lib\\site-packages (0.3.2)\n",
      "Requirement already satisfied: tqdm in c:\\users\\lenovo\\anaconda3\\lib\\site-packages (from lofo-importance) (4.62.3)\n",
      "Requirement already satisfied: scipy in c:\\users\\lenovo\\anaconda3\\lib\\site-packages (from lofo-importance) (1.7.1)\n",
      "Requirement already satisfied: pandas in c:\\users\\lenovo\\anaconda3\\lib\\site-packages (from lofo-importance) (1.4.4)\n",
      "Requirement already satisfied: scikit-learn>=0.20.3 in c:\\users\\lenovo\\anaconda3\\lib\\site-packages (from lofo-importance) (1.1.2)\n",
      "Requirement already satisfied: networkx in c:\\users\\lenovo\\anaconda3\\lib\\site-packages (from lofo-importance) (2.6.3)\n",
      "Requirement already satisfied: numpy>=1.17.3 in c:\\users\\lenovo\\anaconda3\\lib\\site-packages (from lofo-importance) (1.20.3)\n",
      "Requirement already satisfied: lightgbm in c:\\users\\lenovo\\anaconda3\\lib\\site-packages (from lofo-importance) (3.3.3)\n",
      "Requirement already satisfied: threadpoolctl>=2.0.0 in c:\\users\\lenovo\\anaconda3\\lib\\site-packages (from scikit-learn>=0.20.3->lofo-importance) (2.2.0)\n",
      "Requirement already satisfied: joblib>=1.0.0 in c:\\users\\lenovo\\anaconda3\\lib\\site-packages (from scikit-learn>=0.20.3->lofo-importance) (1.1.0)\n",
      "Requirement already satisfied: wheel in c:\\users\\lenovo\\anaconda3\\lib\\site-packages (from lightgbm->lofo-importance) (0.37.0)\n",
      "Requirement already satisfied: python-dateutil>=2.8.1 in c:\\users\\lenovo\\anaconda3\\lib\\site-packages (from pandas->lofo-importance) (2.8.2)\n",
      "Requirement already satisfied: pytz>=2020.1 in c:\\users\\lenovo\\anaconda3\\lib\\site-packages (from pandas->lofo-importance) (2021.3)\n",
      "Requirement already satisfied: six>=1.5 in c:\\users\\lenovo\\anaconda3\\lib\\site-packages (from python-dateutil>=2.8.1->pandas->lofo-importance) (1.16.0)\n",
      "Requirement already satisfied: colorama in c:\\users\\lenovo\\anaconda3\\lib\\site-packages (from tqdm->lofo-importance) (0.4.4)\n"
     ]
    }
   ],
   "source": [
    "!pip install lofo-importance"
   ]
  },
  {
   "cell_type": "code",
   "execution_count": 293,
   "id": "bb064f10",
   "metadata": {},
   "outputs": [],
   "source": [
    "from sklearn.model_selection import KFold\n",
    "from lofo import LOFOImportance, Dataset, plot_importance"
   ]
  },
  {
   "cell_type": "code",
   "execution_count": 294,
   "id": "83dd93c1",
   "metadata": {
    "scrolled": true
   },
   "outputs": [
    {
     "data": {
      "application/vnd.jupyter.widget-view+json": {
       "model_id": "745c8da7863744188b0b4b455c9f8420",
       "version_major": 2,
       "version_minor": 0
      },
      "text/plain": [
       "  0%|          | 0/19 [00:00<?, ?it/s]"
      ]
     },
     "metadata": {},
     "output_type": "display_data"
    },
    {
     "data": {
      "image/png": "[encoded data removed]",
      "text/plain": [
       "<Figure size 864x1440 with 1 Axes>"
      ]
     },
     "metadata": {},
     "output_type": "display_data"
    }
   ],
   "source": [
    "cv = KFold(n_splits=4, shuffle=True, random_state=0)\n",
    "\n",
    "# define the binary target and the features\n",
    "dataset = Dataset(df=balanced_df, target=\"y\", features=[col for col in balanced_df.columns if col != \"y\"])\n",
    "\n",
    "# define the validation scheme and scorer. The default model is LightGBM\n",
    "lofo_imp = LOFOImportance(dataset, cv=cv, scoring=\"roc_auc\")\n",
    "\n",
    "# get the mean and standard deviation of the importances in pandas format\n",
    "importance_df = lofo_imp.get_importance()\n",
    "\n",
    "# plot the means and standard deviations of the importances\n",
    "plot_importance(importance_df, figsize=(12, 20))"
   ]
  },
  {
   "cell_type": "code",
   "execution_count": null,
   "id": "46e5d1cc",
   "metadata": {},
   "outputs": [],
   "source": []
  }
 ],
 "metadata": {
  "kernelspec": {
   "display_name": "Python 3 (ipykernel)",
   "language": "python",
   "name": "python3"
  },
  "language_info": {
   "codemirror_mode": {
    "name": "ipython",
    "version": 3
   },
   "file_extension": ".py",
   "mimetype": "text/x-python",
   "name": "python",
   "nbconvert_exporter": "python",
   "pygments_lexer": "ipython3",
   "version": "3.9.7"
  }
 },
 "nbformat": 4,
 "nbformat_minor": 5
}
